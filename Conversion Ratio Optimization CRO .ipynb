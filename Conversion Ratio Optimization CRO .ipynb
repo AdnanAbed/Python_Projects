{
 "cells": [
  {
   "cell_type": "markdown",
   "id": "e7db4285-c77d-48f8-afc3-1d21cdc3b37f",
   "metadata": {},
   "source": [
    "## Digital Analyst (CRO) - Project\n",
    "\n",
    "Description:\n",
    "The product owner wants to improve the registration journey for mcluck.com users. He has an idea that splitting the manual sign-up form from 1 step to 3 steps will improve the sign-up conversion rate. He is also interested in the impact of this change on purchasing behaviour (first purchase)."
   ]
  },
  {
   "cell_type": "markdown",
   "id": "5aba20c9-a4b9-42c0-8001-1bcf7d85e4c6",
   "metadata": {},
   "source": [
    "## Objectives\n",
    "\n",
    "To help the product owner make a decision, we need to identify two elements:\n",
    "\n",
    "> ### First\n",
    "> To determine the conversion rate, we compare the number of visitors who signed up to the total number of visitors exposed to each variant of the experiment, in both the original and multistep forms.\n",
    "\n",
    "> ### Second \n",
    "> - To find the proportion of first-time purchasers compared to signed-up visitors in both variants.\n",
    "> - To identify the purchase value in both variants."
   ]
  },
  {
   "cell_type": "markdown",
   "id": "0a28cb44-7b08-4fdc-86aa-2c7ad623925d",
   "metadata": {},
   "source": [
    "### Data\n",
    " \n",
    "\n",
    "Three datasets are available for this analysis as described [here](https://github.com/AdnanAbed/Attachments/blob/1c0ea1ab4451901bd7d17199666cad0c81d07f82/CRO_Data%20Description.pdf )"
   ]
  },
  {
   "cell_type": "markdown",
   "id": "ed56c288-5541-4918-ab87-06c5ab638f24",
   "metadata": {},
   "source": [
    "### Analysis for first objective\n",
    "\n",
    "Let's do the analysis considering the hypothesis below:\n",
    "\n",
    "Null Hypothesis (H₀): The null hypothesis states that there is no significant difference between the conversion rate of the two variants of the sign-up forms.  \n",
    "\n",
    "Alternative Hypothesis (H₁): The alternative hypothesis suggests a significant difference in the conversion rates between the two variants of the sign-up forms."
   ]
  },
  {
   "cell_type": "code",
   "execution_count": 3,
   "id": "f2df8b8f-7b76-4b22-acbc-5599d41924bc",
   "metadata": {},
   "outputs": [],
   "source": [
    "# Step 1: Importing necessary libraries and loading the datasets\n",
    "\n",
    "import pandas as pd\n",
    "import matplotlib.pyplot as plt\n",
    "import seaborn as sns\n",
    "from scipy.stats import chi2_contingency\n",
    "\n",
    "# Load data into DataFrames (assuming CSV files for this example)\n",
    "decisions = pd.read_csv('decisions.csv')\n",
    "conversions = pd.read_csv('conversions.csv')\n",
    "account_details = pd.read_csv('account_details.csv')\n"
   ]
  },
  {
   "cell_type": "code",
   "execution_count": 5,
   "id": "8c9a0789-590f-4020-9eb1-72c4441b3a64",
   "metadata": {},
   "outputs": [],
   "source": [
    "# Filter relevant data\n",
    "decisions_filtered = decisions[decisions['variation_id'].isin([25991400310, 25974540423])]\n",
    "conversions_filtered = conversions[conversions['variation_id'].isin([25991400310, 25974540423])]\n"
   ]
  },
  {
   "cell_type": "code",
   "execution_count": 7,
   "id": "09bae3a4-cce4-43af-8743-4d77d3b9c2c4",
   "metadata": {},
   "outputs": [
    {
     "name": "stdout",
     "output_type": "stream",
     "text": [
      "   Variation_id  Unique visitors  Sign_up counts  Conversion rate\n",
      "0   25974540423             7642            3934         0.514787\n",
      "1   25991400310             7721            3940         0.510297\n"
     ]
    }
   ],
   "source": [
    "# Step 2: Analyze Sign-Up Conversion Rate\n",
    "\n",
    "# Identify sign-up events for both variations as a df\n",
    "sign_ups = conversions_filtered[conversions_filtered['event_name'] == 'signUp']\n",
    "\n",
    "# Count unique visitors for each variation\n",
    "filtered_visitors = decisions_filtered[decisions_filtered['visitor_id'] != 0]\n",
    "unique_visitors = decisions_filtered.groupby('variation_id')['visitor_id'].nunique()\n",
    "\n",
    "# Count sign-ups for each variation\n",
    "sign_up_counts = sign_ups.groupby('variation_id')['visitor_id'].nunique()\n",
    "\n",
    "# Calculate conversion rates\n",
    "conversion_rates = sign_up_counts / unique_visitors\n",
    "\n",
    "# Create a DataFrame to display the results as a table\n",
    "results = pd.DataFrame({\n",
    "    'Variation_id': unique_visitors.index,\n",
    "    'Unique visitors': unique_visitors.values,\n",
    "    'Sign_up counts': sign_up_counts.values,\n",
    "    'Conversion rate': conversion_rates.values\n",
    "})\n",
    "\n",
    "# Print the table\n",
    "print(results)\n",
    "\n",
    "## Variation_id 25974540423 is for the Multi_step Form\n",
    "## Variation_id 25991400310 is for the Orignial Form\n"
   ]
  },
  {
   "cell_type": "code",
   "execution_count": 11,
   "id": "2d4aab53-60bb-4dfa-a7e7-dbc70ed67af1",
   "metadata": {},
   "outputs": [
    {
     "data": {
      "image/png": "[encoded data removed]",
      "text/plain": [
       "<Figure size 1000x600 with 1 Axes>"
      ]
     },
     "metadata": {},
     "output_type": "display_data"
    }
   ],
   "source": [
    "# Plot Conversion Rates\n",
    "plt.figure(figsize=(10, 6))\n",
    "sns.barplot(x=conversion_rates.index, y=conversion_rates.values)\n",
    "plt.title('Sign-Up Conversion Rates by Variation')\n",
    "plt.xlabel('Variation ID')\n",
    "plt.ylabel('Conversion Rate')\n",
    "plt.show()\n"
   ]
  },
  {
   "cell_type": "code",
   "execution_count": 48,
   "id": "10916e99-0ac9-45dd-bb82-a2c0460ff4df",
   "metadata": {},
   "outputs": [
    {
     "name": "stdout",
     "output_type": "stream",
     "text": [
      "z-score: 0.5566920718191339\n",
      "p-value: 0.5777378346579753\n"
     ]
    }
   ],
   "source": [
    "# Step 4: Statistical Significance (using Chi-Square Test for Proportions)\n",
    "\n",
    "import scipy.stats as stats\n",
    "import math\n",
    "\n",
    "# Given data\n",
    "n1 = 7721 # number of visitors for the original form\n",
    "n2 = 7642  # number of visitors for the multi-step form\n",
    "p1 = 0.510297 # conversion rate for the original form\n",
    "p2 = 0.514787 # conversion rate for the multi-step form\n",
    "\n",
    "# Calculate number of conversions\n",
    "x1 = n1 * p1\n",
    "x2 = n2 * p2\n",
    "\n",
    "# Calculate pooled proportion\n",
    "p_pooled = (x1 + x2) / (n1 + n2)\n",
    "\n",
    "# Calculate standard error\n",
    "SE = math.sqrt(p_pooled * (1 - p_pooled) * (1/n1 + 1/n2))\n",
    "\n",
    "# Calculate z-score\n",
    "z = (p2 - p1) / SE\n",
    "\n",
    "# Calculate p-value (two-tailed)\n",
    "p_value = 2 * (1 - stats.norm.cdf(abs(z)))\n",
    "\n",
    "print(f\"z-score: {z}\")\n",
    "print(f\"p-value: {p_value}\")\n",
    "\n"
   ]
  },
  {
   "cell_type": "markdown",
   "id": "db71ab83-3bcc-4bb0-be56-fbc306103c85",
   "metadata": {},
   "source": [
    "A p-value of 0.5888 suggests that there is a high probability that the observed difference (or a more extreme one) could have occurred by random chance alone, assuming that the null hypothesis is true."
   ]
  },
  {
   "cell_type": "markdown",
   "id": "fb3bb34f-24ea-4d29-86cd-6967bbcc8f28",
   "metadata": {},
   "source": [
    "### Analysis for the second objective\n",
    "\n",
    "Let's do the analysis considering the hypothesis below:\n",
    "\n",
    "Null Hypothesis (H₀): The null hypothesis states that there is no significant difference between the proportion of sign-up counts and first purchase counts for the two variants.  \n",
    "\n",
    "Alternative Hypothesis (H₁): The alternative hypothesis suggests a significant difference in the conversion rates between the proportion of sign-up counts and first purchase counts for the two variants."
   ]
  },
  {
   "cell_type": "code",
   "execution_count": 23,
   "id": "d79d3aa2-297e-41b1-a5b6-8ab3c3b2fe60",
   "metadata": {
    "jp-MarkdownHeadingCollapsed": true
   },
   "outputs": [
    {
     "name": "stdout",
     "output_type": "stream",
     "text": [
      " variation_id  signup_count  count_1st_Purchasers  first_purchase_value  Purchase_rate\n",
      "  25974540423          3934                   406               6765.94       0.103203\n",
      "  25991400310          3940                   444               6490.56       0.112690\n"
     ]
    }
   ],
   "source": [
    "# Step 1: Re-Calculate sign_up_count\n",
    "sign_up_count = (\n",
    "    conversions[conversions['event_name'] == 'signUp']\n",
    "    .groupby('variation_id')\n",
    "    .agg(signup_count=('visitor_id', 'nunique'))\n",
    "    .reset_index()\n",
    ")\n",
    "\n",
    "# Step 2: Merge the data frames on account_id and user_account_id\n",
    "merged_df = pd.merge(\n",
    "    conversions,\n",
    "    account_details,\n",
    "    left_on='user_account_id',\n",
    "    right_on='account_id',\n",
    "    how='inner'\n",
    ")\n",
    "\n",
    "# Step 3: Remove duplicates based on user_account_id\n",
    "merged_df = merged_df.drop_duplicates(subset=['user_account_id'])\n",
    "\n",
    "# Step 4: Calculate the sum of first_purchase_value where sign_up_method = 'manual', grouped by variation_id\n",
    "sum_first_purchase = merged_df[merged_df['sign_up_method'] == 'manual'].groupby('variation_id')['first_purchase_value'].sum().reset_index()\n",
    "\n",
    "# Step 5: Count first_purchase_value where sign_up_method = 'manual' and first_purchase_value != 0, grouped by variation_id\n",
    "count_1st_Purchasers = merged_df[(merged_df['sign_up_method'] == 'manual') & (merged_df['first_purchase_value'] != 0)].groupby('variation_id')['first_purchase_value'].count().reset_index()\n",
    "count_1st_Purchasers = count_1st_Purchasers.rename(columns={'first_purchase_value': 'count_1st_Purchasers'})\n",
    "\n",
    "# Step 6: Merge the sign_up_count, sum_first_purchase, and count_nonzero_first_purchase DataFrames\n",
    "result = pd.merge(sign_up_count, sum_first_purchase, on='variation_id', how='left')\n",
    "result = pd.merge(result, count_1st_Purchasers, on='variation_id', how='left')\n",
    "\n",
    "# Step 7: Calculate the Purchase_rate\n",
    "result['Purchase_rate'] = result['count_1st_Purchasers'] / result['signup_count']\n",
    "\n",
    "# Step 8: Print the results\n",
    "print(result[['variation_id', 'signup_count', 'count_1st_Purchasers', 'first_purchase_value', 'Purchase_rate']].to_string(index=False))\n",
    "\n"
   ]
  },
  {
   "cell_type": "markdown",
   "id": "a69d7c3f-a93d-4acf-bed0-683072fdf855",
   "metadata": {},
   "source": [
    "Plotting the results and testing the significance"
   ]
  },
  {
   "cell_type": "code",
   "execution_count": 35,
   "id": "dd5c8f5a-ca53-40d2-9f52-72809eab46b5",
   "metadata": {},
   "outputs": [
    {
     "data": {
      "image/png": "[encoded data removed]",
      "text/plain": [
       "<Figure size 1000x600 with 1 Axes>"
      ]
     },
     "metadata": {},
     "output_type": "display_data"
    }
   ],
   "source": [
    "\n",
    "plt.figure(figsize=(10, 6))\n",
    "sns.barplot(x=result['Purchase_rate'].index, y=result['Purchase_rate'].values)\n",
    "plt.title('Sign-Up Conversion Rates by Variation')\n",
    "plt.xlabel('Variation ID')\n",
    "plt.ylabel('Purchase_rate')\n",
    "plt.show()"
   ]
  },
  {
   "cell_type": "code",
   "execution_count": 52,
   "id": "6dd18935-0ad3-457a-adbd-7827d1ad8adb",
   "metadata": {},
   "outputs": [
    {
     "name": "stdout",
     "output_type": "stream",
     "text": [
      "z-score: -1.3564080526162499\n",
      "p-value: 0.17496937255558365\n"
     ]
    }
   ],
   "source": [
    "# Step 4: Statistical Significance (using Chi-Square Test for Proportions)\n",
    "\n",
    "import scipy.stats as stats\n",
    "import math\n",
    "\n",
    "# Given data\n",
    "n1 = 3940 # number of sign-up for the original form\n",
    "n2 = 3934  # number of sign_ups for the multi-step form\n",
    "p1 = 0.112690 # Purchase rate for the original form\n",
    "p2 = 0.103203 # Purchase rate for the multi-step form\n",
    "\n",
    "# Calculate number of conversions\n",
    "x1 = n1 * p1\n",
    "x2 = n2 * p2\n",
    "\n",
    "# Calculate pooled proportion\n",
    "p_pooled = (x1 + x2) / (n1 + n2)\n",
    "\n",
    "# Calculate standard error\n",
    "SE = math.sqrt(p_pooled * (1 - p_pooled) * (1/n1 + 1/n2))\n",
    "\n",
    "# Calculate z-score\n",
    "z = (p2 - p1) / SE\n",
    "\n",
    "# Calculate p-value (two-tailed)\n",
    "p_value = 2 * (1 - stats.norm.cdf(abs(z)))\n",
    "\n",
    "print(f\"z-score: {z}\")\n",
    "print(f\"p-value: {p_value}\")\n",
    "\n"
   ]
  },
  {
   "cell_type": "markdown",
   "id": "cbd3a082-5133-4609-b653-10cb1133c628",
   "metadata": {},
   "source": [
    "## Conclusion\n",
    "\n",
    "- Despite the variations in conversion rates between the two variants and the disparities in the proportion of first-purchase counts and sign-up counts, these differences are not statistically significant. This indicates that there is a high probability that the observed difference, or an even more extreme one, could have occurred purely by random chance.\n",
    "- Recommendation: consider further testing or optimization."
   ]
  },
  {
   "cell_type": "markdown",
   "id": "0011f957-148d-44b7-b630-56759ade327f",
   "metadata": {},
   "source": [
    "## Recommendation\r\n",
    "To effectively measure the impact of modifying a one-stage sign-up form to a three-stage sign-up form on conversion rates, it is recommended to collect various digital metrics. Here are the key metrics to focus on:\r",
    "\r\n",
    "\r\n",
    "1. Conversion Rate Metr    ics\r\n",
    " - Overall Conversion Rate: Measure the percentage of users who complete the sign-up proc    ess.\r\n",
    " - Stage-Specific Conversion Rates: Measure the drop-off rate at each stage of the sign-up pro    cess.\r\n",
    " - Stage 1 to Stage 2 Conversio    n Rate\r\n",
    " - Stage 2 to Stage 3 Conversi    on Rate\r\n",
    " - Stage 3 to Completion Conversion Rate\r\n",
    "\r\n",
    "2. Funn    el Metrics\r\n",
    " - Funnel Drop-off Rates: The percentage of users who abandon the sign-up process at     each stage.\r\n",
    " - Time to Complete Each Stage: Average time users spend on each stage of the form.\r\n",
    "\r\n",
    "3. User Be    havior Metrics\r\n",
    " - Form Field Interaction: Track interactions with each form field to identify prob    lematic fields.\r\n",
    " - Metrics: Number of clicks, time spent, error rates, and corr    ection attempts.\r\n",
    " - Session Duration: Total time users spend on the sign-up process.\r\n",
    "4.     Engagement Metrics\r\n",
    " - Page Views per Session: Number of pages viewed during t    he sign-up process.\r\n",
    " - Bounce Rate: Percentage of users who leave the site without interacting further.\r\n",
    "5. Us    er Experience Metrics\r\n",
    " - Heatmaps and Click Maps: Visual representations of user interactions at e    ach stage of the form.\r\n",
    " - Session Recordings: Videos of user sessions to observe navigation patterns and issues.\r",
    "    \n",
    "\r\n",
    "6. Qualitative Metrics\r\n",
    " - User Feedback: Collect feedback through surveys or feedback forms at the e    nd of the sign-up process.\r\n",
    " - Usability Testing: Conduct tests with real users to gather insights into the user experience.on Rate into the user experience.\r\n"
   ]
  }
 ],
 "metadata": {
  "kernelspec": {
   "display_name": "Python 3 (ipykernel)",
   "language": "python",
   "name": "python3"
  },
  "language_info": {
   "codemirror_mode": {
    "name": "ipython",
    "version": 3
   },
   "file_extension": ".py",
   "mimetype": "text/x-python",
   "name": "python",
   "nbconvert_exporter": "python",
   "pygments_lexer": "ipython3",
   "version": "3.11.7"
  }
 },
 "nbformat": 4,
 "nbformat_minor": 5
}
