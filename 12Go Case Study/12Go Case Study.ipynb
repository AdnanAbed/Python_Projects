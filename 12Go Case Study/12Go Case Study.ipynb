{
 "cells": [
  {
   "cell_type": "markdown",
   "id": "130a5857-cf79-4c58-b6bf-da0814e30555",
   "metadata": {},
   "source": [
    "# Case Study Details\n",
    "\n",
    "We have gathered booking data for 2019 and 2023 in this table. These are not full years, but\n",
    "Q1/Q2/Q3 for both years."
   ]
  },
  {
   "cell_type": "markdown",
   "id": "57c55deb-bbfb-4eb0-8f8f-4bfdb415de09",
   "metadata": {},
   "source": [
    "## Objective\n",
    "\n",
    "The main goals of the assessment are to find what has changed and why and provide\n",
    "hypotheses/recommendations for future growth- \n",
    "-  Investigate what happened with the metric “EPS” (Earn Per Seat). Was there any change in EPS between these two years, and if it is, why?\n",
    "-  Based on the data, try to make at least 3 more hypotheses/recommendations about increasing sales/revenue and ranking them by business value."
   ]
  },
  {
   "cell_type": "markdown",
   "id": "b2aa9e10-a10e-4b95-ba7a-04bac981cb05",
   "metadata": {},
   "source": [
    "Calculating eps"
   ]
  },
  {
   "cell_type": "markdown",
   "id": "1ccb4a01-882a-486c-bf80-610997733c96",
   "metadata": {},
   "source": [
    "```SQL\n",
    "\n",
    "SELECT \r\n",
    "    EXTRACT(YEAR FROM paidon_date) AS Year,\r\n",
    "    SUM(total_usd) AS total_usd,\r\n",
    "    SUM(seats) AS total_seats,\r\n",
    "    SUM(total_usd) / SUM(seats) AS eps\r\n",
    "FROM \r\n",
    "    analytic_test_booking\r\n",
    "WHERE\r\n",
    "    EXTRACT(YEAR FROM paidon_date) IS NOT NULL\r\n",
    "GROUP BY \r\n",
    "    EXTRACT(YEAR FROM paidon_date)\r\n",
    "ORDER BY \r\n",
    "    Year;\r\n",
    "\n",
    "```"
   ]
  },
  {
   "cell_type": "markdown",
   "id": "3dd2c6b1-0c4b-48fa-991d-6c05b495dbfb",
   "metadata": {},
   "source": [
    "| Year | total_usd      | total_seats | eps                 |\r\n",
    "|------|----------------|-------------|---------------------|\r\n",
    "| 2019 | 16857805.94386296 | 987923      | 17.063886501137194  |\r\n",
    "| 2023 | 40853409.6423527  | 3139188     | 13.014005418711049  |\r\n"
   ]
  },
  {
   "cell_type": "markdown",
   "id": "9b47e419-aee8-4e6f-97bb-620322c555f7",
   "metadata": {},
   "source": [
    "The EPS for 2023 is lower than that of 2019. Let's analyze the reasons why."
   ]
  },
  {
   "cell_type": "markdown",
   "id": "2530d688-b69b-40b4-82ef-bb8641892c35",
   "metadata": {},
   "source": [
    "To understand which variable caused the drop in eps from 2019 to 2023, we can compare the growth rates of total_usd and seats between these years. If the sum of total_usd grew at a slower rate than the sum of seats, this would lead to a decrease in eps. Let's validate this assumption."
   ]
  },
  {
   "cell_type": "markdown",
   "id": "4fa1fec6-59ec-4b04-b530-9603bdefe1bd",
   "metadata": {},
   "source": [
    "```sql\n",
    "\n",
    "WITH YearlyData AS (\n",
    "    SELECT \n",
    "        EXTRACT(YEAR FROM paidon_date) AS Year,\n",
    "        SUM(total_usd) AS t_total_usd,\n",
    "        SUM(seats) AS total_seats\n",
    "    FROM \n",
    "        analytic_test_booking\n",
    "    WHERE\n",
    "    EXTRACT(YEAR FROM paidon_date) IS NOT NULL\n",
    "    GROUP BY \n",
    "        EXTRACT(YEAR FROM paidon_date)\n",
    "),\n",
    "GrowthRates AS (\n",
    "    SELECT \n",
    "        Year,\n",
    "        t_total_usd,\n",
    "        total_seats,\n",
    "        LAG(t_total_usd) OVER (ORDER BY Year) AS prev_total_usd,\n",
    "        LAG(total_seats) OVER (ORDER BY Year) AS prev_total_seats\n",
    "    FROM \n",
    "        YearlyData\n",
    ")\n",
    "SELECT \n",
    "    Year,\n",
    "    t_total_usd,\n",
    "    total_seats,\n",
    "    (t_total_usd - prev_total_usd) / prev_total_usd * 100 AS total_usd_growth_rate,\n",
    "    (total_seats - prev_total_seats) / prev_total_seats * 100 AS total_seats_growth_rate,\n",
    "    t_total_usd / total_seats AS eps\n",
    "FROM \n",
    "    GrowthRates\n",
    "ORDER BY \n",
    "    Year;\n",
    "```"
   ]
  },
  {
   "cell_type": "markdown",
   "id": "5f522d87-3544-4181-a4af-9d738ccb2be7",
   "metadata": {},
   "source": [
    "| Year | t_total_usd       | total_seats | total_usd_growth_rate | total_seats_growth_rate | eps                 |\r\n",
    "|------|-------------------|-------------|-----------------------|-------------------------|---------------------|\r\n",
    "| 2019 | 16857805.94386296 | 987923      | NULL                  | NULL                    | 17.063886501137194  |\r\n",
    "| 2023 | 40853409.6423527  | 3139188     | 142.34120251707654    | 217.7563                | 13.014005418711049  |\r\n"
   ]
  },
  {
   "cell_type": "markdown",
   "id": "966360ff-5270-4b4f-a4f4-fd4cf7655f7b",
   "metadata": {},
   "source": [
    "Hypothesis:\n",
    "\n",
    "The observation that the growth in total seats is higher than the growth in total earnings (`total_usd`) can be attributed to several potential reasons. Here are some possible explanations:\r\n",
    "\r\n",
    "1. **Price Reductions or Discounts:**\r\n",
    "   - If there were price reductions, promotions, or discounts offered during 2023, this could lead to an increase in the number of seats sold while the total earnings did not increase proportionally.\r\n",
    "\r\n",
    "2. **Change in Product/Service Mix:**\r\n",
    "   - There might have been a shift in the mix of products or services being sold. For example, more lower-priced options could have been sold in 2023 compared to higher-priced options in 2019.\r\n",
    "\r\n",
    "3. **Market Saturation:**\r\n",
    "   - The market might be reaching a saturation point where additional seats sold do not correspond to proportional increases in revenue due to market competition or reduced willingness to pay.\r\n",
    "\r\n",
    "4. **Economic Factors:**\r\n",
    "   - Economic downturns or other macroeconomic factors could result in customers being more price-sensitive, leading to higher sales volumes at lower price points.\r\n",
    "\r\n",
    "5. **Operational Changes:**\r\n",
    "   - Operational changes, such as increasing capacity or adding more seats to meet demand without a corresponding increase in pricing, could lead to more seats being sold at the same or lower prices.\r\n",
    "\r\n",
    "6. **Increased Competition:**\r\n",
    "   - Increased competition may force the company to lower prices to remain competitive, resulting in higher seat sales but lower revenue per seat.\r\n",
    "\r\n",
    "7. **Promotional Strategies:**\r\n",
    "   - Aggressive marketing campaigns focusing on increasing volume rather than revenue could have driven up the number of seats sold without significantly increasing earnings.\r\n",
    "\r\n",
    "8. **Customer Behavior Changes:**\r\n",
    "   - Changes in customer behavior, such as a preference for cheaper options or shorter durations, could lead to an increase in the number of seats sold but not a proportional increase in total revenue.\r\n",
    "\r\n",
    "To gain a clearer understanding of the specific reasons for your case, consider the following additional analyses:\r\n",
    "\r\n",
    "- **Price Analysis:**\r\n",
    "  - Analyze the average price per seat over the years to see if there has been a significant drop in prices.\r\n",
    "  \r\n",
    "- **Revenue Segmentation:**\r\n",
    "  - Break down the total earnings by product or service categories to identify if certain segments have experienced a decline in average revenue per seat.\r\n",
    "\r\n",
    "- **Promotional Impact:**\r\n",
    "  - Examine the impact of promotions, discounts, and other pricing strategies over time.\r\n",
    "\r\n",
    "- **Customer Demographics and Preferences:**\r\n",
    "  - Study changes in customer demographics and preferences to understand if there is a shift towards cheaper or different types of services.\r\n",
    "\r\n",
    "By conducting these additional analyses, you can pinpoint more accurately which factors are contributing to the observed trends in earnings and seat demand."
   ]
  },
  {
   "cell_type": "markdown",
   "id": "36cdbafe-55a8-4290-9906-3e716b4bf3c1",
   "metadata": {},
   "source": [
    "- **Price Analysis:**\n",
    "  - Analyze the average price per seat over the years to see if there has been a significant drop in prices."
   ]
  },
  {
   "cell_type": "markdown",
   "id": "51f83f55-b954-4fbc-b599-3d2ebcad266e",
   "metadata": {},
   "source": [
    "```sql\n",
    "SELECT \n",
    "    year,\n",
    "    quarter,\n",
    "    AVG(eps) AS avg_eps\n",
    "FROM (\n",
    "    SELECT\n",
    "        EXTRACT(YEAR FROM paidon_date) AS year,\n",
    "        EXTRACT(QUARTER FROM paidon_date) AS quarter,\n",
    "        total_usd / seats AS eps\n",
    "    FROM \n",
    "        analytic_test_booking\n",
    "    WHERE\n",
    "        EXTRACT(YEAR FROM paidon_date) IS NOT NULL\n",
    ") AS subquery\n",
    "WHERE\n",
    "    quarter IN (1, 2, 3)\n",
    "GROUP BY \n",
    "    year,\n",
    "    quarter\n",
    "ORDER BY \n",
    "    year,\n",
    "    quarter;\n",
    "```"
   ]
  },
  {
   "cell_type": "markdown",
   "id": "907322d9-7cc5-483c-b4a6-f8233bf52643",
   "metadata": {},
   "source": [
    "| year | quarter | avg_eps |\n",
    "| ---- | ------- | ------- |\n",
    "| 2019 | 1       | 17.24   |\n",
    "| 2019 | 2       | 16.91   |\n",
    "| 2019 | 3       | 17.90   |\n",
    "| 2023 | 1       | 13.80   |\n",
    "| 2023 | 2       | 12.95   |\n",
    "| 2023 | 3       | 12.55   |\n"
   ]
  },
  {
   "cell_type": "markdown",
   "id": "184635b2-f11f-4aad-bd1a-7dc728baf87d",
   "metadata": {},
   "source": [
    "```sql\n",
    "SELECT \n",
    "    YEAR(paidon_date) AS year,\n",
    "    QUARTER(paidon_date) AS quarter,\n",
    "    ROUND(AVG(netprice_usd), 2) AS average_netprice_usd\n",
    "FROM \n",
    "    analytic_test_booking\n",
    "WHERE \n",
    "    YEAR(paidon_date) IN (2019, 2023) \n",
    "    AND QUARTER(paidon_date) IN (1, 2, 3)\n",
    "    AND YEAR(paidon_date) IS NOT NULL\n",
    "GROUP BY \n",
    "    YEAR(paidon_date), \n",
    "    QUARTER(paidon_date)\n",
    "ORDER BY \n",
    "    YEAR(paidon_date), \n",
    "    QUARTER(paidon_date);\n",
    "\n",
    "\n",
    "```\n"
   ]
  },
  {
   "cell_type": "markdown",
   "id": "b821c978-3eed-4a1e-84e5-ca3c26d404b6",
   "metadata": {},
   "source": [
    "| year | quarter | average_netprice_usd |\n",
    "| ---- | ------- | -------------------- |\n",
    "| 2019 | 1       | 14.00                |\n",
    "| 2019 | 2       | 13.71                |\n",
    "| 2019 | 3       | 14.52                |\n",
    "| 2023 | 1       | 11.45                |\n",
    "| 2023 | 2       | 10.72                |\n",
    "| 2023 | 3       | 10.32                |"
   ]
  },
  {
   "cell_type": "markdown",
   "id": "45bb8b26-70bf-4e52-9b6f-9c73a9c26936",
   "metadata": {},
   "source": [
    "- **Revenue Segmentation:**\n",
    "  - Break down the total earnings by product or service categories to identify if certain segments have experienced a decline in average revenue per seat."
   ]
  },
  {
   "cell_type": "markdown",
   "id": "dffc8694-bc12-44cc-b957-b4b493b00e04",
   "metadata": {},
   "source": [
    "``` SQL\n",
    "WITH avg_eps AS (\n",
    "    SELECT \n",
    "        class_id,\n",
    "        ROUND(AVG(CASE WHEN year = 2019 THEN eps END), 2) AS avg_eps_2019,\n",
    "        ROUND(AVG(CASE WHEN year = 2023 THEN eps END), 2) AS avg_eps_2023\n",
    "    FROM (\n",
    "        SELECT\n",
    "            EXTRACT(YEAR FROM paidon_date) AS year,\n",
    "            class_id,\n",
    "            total_usd / seats AS eps\n",
    "        FROM \n",
    "            analytic_test_booking\n",
    "        WHERE\n",
    "            EXTRACT(YEAR FROM paidon_date) IS NOT NULL\n",
    "    ) AS subquery\n",
    "    WHERE\n",
    "        year IN (2019, 2023)\n",
    "    GROUP BY \n",
    "        class_id\n",
    ")\n",
    "SELECT \n",
    "    class_id,\n",
    "    avg_eps_2019,\n",
    "    avg_eps_2023,\n",
    "    ROUND(ABS(avg_eps_2019 - avg_eps_2023), 2) AS diff_avg_eps\n",
    "FROM \n",
    "    avg_eps\n",
    "WHERE \n",
    "    avg_eps_2019 IS NOT NULL \n",
    "    AND avg_eps_2023 IS NOT NULL\n",
    "ORDER BY \n",
    "    diff_avg_eps DESC\n",
    "LIMIT 10;\n",
    "\n",
    "```"
   ]
  },
  {
   "cell_type": "markdown",
   "id": "c984e878-a1f3-417a-b3df-715b82723769",
   "metadata": {},
   "source": [
    "| class_id | avg_eps_2019 | avg_eps_2023 | diff_avg_eps |\r\n",
    "| -------- | ------------ | ------------ | ------------ |\r\n",
    "| 1918     | 2178.63      | 13.09        | 2165.54      |\r\n",
    "| 1662     | 97.84        | 7.75         | 90.09        |\r\n",
    "| 20       | 18.08        | 83.42        | 65.34        |\r\n",
    "| 1597     | 78.25        | 25.62        | 52.63        |\r\n",
    "| 28       | 21.94        | 57.11        | 35.17        |\r\n",
    "| 1320     | 89.44        | 54.59        | 34.85        |\r\n",
    "| 2728     | 59.86        | 26.31        | 33.55        |\r\n",
    "| 34       | 6.77         | 36.16        | 29.39        |\r\n",
    "| 1607     | 5.40         | 29.92        | 24.52        |\r\n",
    "| 1155     | 43.35        | 18.84        | 24.51        |\r\n"
   ]
  },
  {
   "cell_type": "markdown",
   "id": "4fd0f608-3f09-43a2-ba68-887cfc8cd6da",
   "metadata": {},
   "source": [
    "- **Customer Demographics and Preferences:**\n",
    "  - Study changes in customer demographics and preferences to understand if there is a shift towards cheaper or different types of services."
   ]
  },
  {
   "cell_type": "markdown",
   "id": "f287fc52-eb06-4b75-8c89-de54a62552f7",
   "metadata": {},
   "source": [
    "```sql\n",
    "WITH avg_eps AS (\n",
    "    SELECT \n",
    "        country_id,\n",
    "        ROUND(AVG(CASE WHEN year = 2019 THEN eps END), 2) AS avg_eps_2019,\n",
    "        ROUND(AVG(CASE WHEN year = 2023 THEN eps END), 2) AS avg_eps_2023\n",
    "    FROM (\n",
    "        SELECT\n",
    "            EXTRACT(YEAR FROM paidon_date) AS year,\n",
    "            country_id,\n",
    "            total_usd / seats AS eps\n",
    "        FROM \n",
    "            analytic_test_booking\n",
    "        WHERE\n",
    "            EXTRACT(YEAR FROM paidon_date) IS NOT NULL\n",
    "    ) AS subquery\n",
    "    WHERE\n",
    "        year IN (2019, 2023)\n",
    "    GROUP BY \n",
    "        country_id\n",
    ")\n",
    "SELECT \n",
    "    country_id,\n",
    "    avg_eps_2019,\n",
    "    avg_eps_2023,\n",
    "    ROUND((avg_eps_2019 - avg_eps_2023), 2) AS diff_avg_eps\n",
    "FROM \n",
    "    avg_eps\n",
    "WHERE \n",
    "    avg_eps_2019 IS NOT NULL \n",
    "    AND avg_eps_2023 IS NOT NULL\n",
    "ORDER BY \n",
    "    diff_avg_eps DESC\n",
    "LIMIT 10;\n",
    "\n",
    "```"
   ]
  },
  {
   "cell_type": "markdown",
   "id": "70de749e-83b0-4c1a-b41c-ec3284d11385",
   "metadata": {},
   "source": [
    "| country_id | avg_eps_2019 | avg_eps_2023 | diff_avg_eps |\n",
    "| ---------- | ------------ | ------------ | ------------ |\n",
    "| AZ         | 57.27        | 11.83        | 45.44        |\n",
    "| LR         | 46.08        | 8.00         | 38.08        |\n",
    "| ZM         | 56.47        | 23.24        | 33.23        |\n",
    "| ME         | 39.41        | 12.26        | 27.15        |\n",
    "| PY         | 34.93        | 12.18        | 22.75        |\n",
    "| GT         | 37.07        | 16.14        | 20.93        |\n",
    "| CV         | 33.22        | 13.18        | 20.04        |\n",
    "| CR         | 35.28        | 16.57        | 18.71        |\n",
    "| SV         | 28.64        | 10.76        | 17.88        |\n",
    "| CK         | 27.80        | 10.27        | 17.53        |\n"
   ]
  },
  {
   "cell_type": "markdown",
   "id": "944fa000-25a9-4e15-891e-fef6ba1ade40",
   "metadata": {},
   "source": [
    "Based on the provided data schema and the identified drop in Eran per Seat (eps) from 2019 to 2023, here are three hypotheses and recommendations for increasing sales and revenue, ranked by business value:\r\n",
    "\r\n",
    "### 1. **Optimize Pricing Strategy (High Business Value)**\r\n",
    "   **Hypothesis:** Adjusting the pricing strategy to reflect market demand and competitive positioning can enhance revenue per seat.\r\n",
    "   \r\n",
    "   **Recommendations:**\r\n",
    "   - **Dynamic Pricing:** Implement dynamic pricing models that adjust ticket prices based on factors such as demand, time to departure, and competition. For instance, increase prices during peak travel times and offer discounts during off-peak times.\r\n",
    "   - **Segmentation:** Offer different pricing tiers based on customer segments, such as economy, business, and premium seats, to cater to varying customer preferences and willingness to pay.\r\n",
    "   - **Promotions and Discounts:** Run targeted promotions and discounts for specific routes or times that typically experience lower occupancy to increase seat utiland overall business performance."
   ]
  },
  {
   "cell_type": "markdown",
   "id": "fbeba0a6-17ad-455d-ab1f-74b3ccda60eb",
   "metadata": {},
   "source": [
    "```sql\n",
    "SELECT \n",
    "    month,\n",
    "    total_seats,\n",
    "    ROUND((total_seats / total_seats_sum) * 100, 2) AS percentage_of_total_seats\n",
    "FROM (\n",
    "    SELECT \n",
    "        DATE_FORMAT(paidon_date, '%Y-%m') AS month,\n",
    "        SUM(seats) AS total_seats\n",
    "    FROM \n",
    "        analytic_test_booking\n",
    "    WHERE \n",
    "        YEAR(paidon_date) = 2023\n",
    "        AND MONTH(paidon_date) BETWEEN 1 AND 9\n",
    "    GROUP BY \n",
    "        DATE_FORMAT(paidon_date, '%Y-%m')\n",
    ") AS monthly_seats\n",
    "JOIN (\n",
    "    SELECT \n",
    "        SUM(seats) AS total_seats_sum\n",
    "    FROM \n",
    "        analytic_test_booking\n",
    "    WHERE \n",
    "        YEAR(paidon_date) = 2023\n",
    "        AND MONTH(paidon_date) BETWEEN 1 AND 9\n",
    ") AS total_seats_info\n",
    "ON 1=1\n",
    "ORDER BY \n",
    "    total_seats DESC;\n",
    "    \n",
    "    ```\n",
    "    "
   ]
  },
  {
   "cell_type": "markdown",
   "id": "17cc6989-3e72-46d1-81e7-270142ed2b36",
   "metadata": {},
   "source": [
    "| month    | total_seats | percentage_of_total_seats |\r\n",
    "| -------- | ----------- | ------------------------ |\r\n",
    "| 2023-03  | 393919      | 12.55                    |\r\n",
    "| 2023-08  | 367654      | 11.71                    |\r\n",
    "| 2023-04  | 363668      | 11.58                    |\r\n",
    "| 2023-07  | 360831      | 11.49                    |\r\n",
    "| 2023-02  | 359459      | 11.45                    |\r\n",
    "| 2023-01  | 355358      | 11.32                    |\r\n",
    "| 2023-09  | 330456      | 10.53                    |\r\n",
    "| 2023-05  | 321813      | 10.25                    |\r\n",
    "| 2023-06  | 285993      | 9.11                     |\r\n"
   ]
  },
  {
   "cell_type": "markdown",
   "id": "be6fb771-c2a5-44ef-85dc-8d7d2a675474",
   "metadata": {},
   "source": [
    "``` sql\n",
    "SELECT \n",
    "    DAYNAME(paidon_date) AS day_of_week,\n",
    "    SUM(seats) AS total_seats,\n",
    "    ROUND(SUM(seats) * 100.0 / (SELECT SUM(seats) FROM analytic_test_booking WHERE YEAR(paidon_date) = 2023 AND MONTH(paidon_date) BETWEEN 1 AND 9), 2) AS percentage_of_total_seats\n",
    "FROM \n",
    "    analytic_test_booking\n",
    "WHERE \n",
    "    YEAR(paidon_date) = 2023\n",
    "    AND MONTH(paidon_date) BETWEEN 1 AND 9\n",
    "GROUP BY \n",
    "    DAYNAME(paidon_date)\n",
    "ORDER BY \n",
    "    total_seats DESC;\n",
    "```"
   ]
  },
  {
   "cell_type": "markdown",
   "id": "016385a1-2944-4fc6-bfa3-3d806d931a5d",
   "metadata": {},
   "source": [
    "| day_of_week | total_seats | percentage_of_total_seats |\r\n",
    "| ----------- | ----------- | ------------------------ |\r\n",
    "| Monday      | 465775      | 14.84                    |\r\n",
    "| Sunday      | 459947      | 14.65                    |\r\n",
    "| Wednesday   | 452813      | 14.42                    |\r\n",
    "| Thursday    | 451270      | 14.38                    |\r\n",
    "| Tuesday     | 450957      | 14.37                    |\r\n",
    "| Friday      | 433300      | 13.80                    |\r\n",
    "| Saturday    | 425089      | 13.54                    |\r\n"
   ]
  },
  {
   "cell_type": "markdown",
   "id": "7d799916-a907-49e4-8f7a-963f8a4a9ef8",
   "metadata": {},
   "source": [
    "| hour_of_day | total_seats | percentage_of_total_seats |\r\n",
    "| ----------- | ----------- | ------------------------ |\r\n",
    "| 21:00       | 194896      | 6.21                     |\r\n",
    "| 20:00       | 193091      | 6.15                     |\r\n",
    "| 18:00       | 192144      | 6.12                     |\r\n",
    "| 19:00       | 191879      | 6.11                     |\r\n",
    "| 17:00       | 189104      | 6.02                     |\r\n",
    "| 16:00       | 176834      | 5.63                     |\r\n",
    "| 22:00       | 176319      | 5.62                     |\r\n",
    "| 15:00       | 164419      | 5.24                     |\r\n",
    "| 12:00       | 163178      | 5.20                     |\r\n",
    "| 11:00       | 163087      | 5.20                     |\r\n"
   ]
  },
  {
   "cell_type": "markdown",
   "id": "49859580-4111-4a1e-a1b2-5316b226ac2c",
   "metadata": {},
   "source": [
    "```sql\n",
    "SELECT \n",
    "     -- country_id,\n",
    "    -- seller_id,\n",
    "     class_id,\n",
    "     -- cust_id,\n",
    "     -- user_agent,\n",
    "     -- createdby,\n",
    "     -- landing,\n",
    "    round(SUM(total_usd), 2) AS total_usd,\n",
    "    round ((SUM(total_usd) / (SELECT SUM(total_usd) FROM analytic_test_booking where YEAR(paidon_date) = 2023) * 100), 2) AS percentage_of_total\n",
    "FROM \n",
    "    analytic_test_booking\n",
    "where Year(paidon_date) = 2023\n",
    "GROUP BY \n",
    "    -- country_id\n",
    "    -- seller_id\n",
    "      class_id\n",
    "     -- cust_id\n",
    "     -- user_agent,\n",
    "     -- createdby\n",
    "     -- landing\n",
    "ORDER BY \n",
    "    total_usd DESC\n",
    "LIMIT 10;\n",
    "\n",
    "```"
   ]
  },
  {
   "cell_type": "markdown",
   "id": "ddc666ba-c5cf-4469-ba02-5b4de2b0e679",
   "metadata": {},
   "source": [
    "| class_id | total_usd    | percentage_of_total |\r\n",
    "| -------- | ------------ | ------------------- |\r\n",
    "| 43       | 5538807.74   | 13.56               |\r\n",
    "| 21       | 5117352.51   | 12.53               |\r\n",
    "| 12       | 2359512.50   | 5.78                |\r\n",
    "| 6        | 1927556.58   | 4.72                |\r\n",
    "| 11       | 1423242.72   | 3.48                |\r\n",
    "| 79       | 1259985.51   | 3.08                |\r\n",
    "| 44       | 1161400.66   | 2.84                |\r\n",
    "| 5        | 874532.66    | 2.14                |\r\n",
    "| 1776     | 684805.19    | 1.68                |\r\n",
    "| 3473     | 630651.15    | 1.54                |\r\n"
   ]
  },
  {
   "cell_type": "markdown",
   "id": "e334edd4-6720-49a5-a4cd-de34a67a957e",
   "metadata": {},
   "source": [
    "| country_id | total_usd    | percentage_of_total |\r\n",
    "| ---------- | ------------ | ------------------- |\r\n",
    "| TH         | 12816936.12  | 31.37               |\r\n",
    "| VN         | 3371532.33   | 8.25                |\r\n",
    "| ID         | 2355387.43   | 5.77                |\r\n",
    "| SG         | 2042309.39   | 5.00                |\r\n",
    "| FR         | 1744735.92   | 4.27                |\r\n",
    "| PH         | 1695213.63   | 4.15                |\r\n",
    "| DE         | 1680660.19   | 4.11                |\r\n",
    "| GB         | 1613003.69   | 3.95                |\r\n",
    "| NL         | 1436204.64   | 3.52                |\r\n",
    "| US         | 1327477.10   | 3.25                |\r\n"
   ]
  },
  {
   "cell_type": "markdown",
   "id": "b2165052-7a9a-400a-b853-ae2d3e3d2d53",
   "metadata": {},
   "source": [
    "The same code will be used to find relations with other variables"
   ]
  },
  {
   "cell_type": "markdown",
   "id": "bac93f03-19fc-4e99-8bb9-d5c49494dfc6",
   "metadata": {},
   "source": [
    "| seller_id | total_usd    | percentage_of_total |\r\n",
    "| --------- | ------------ | ------------------- |\r\n",
    "| 2547      | 3573473.40   | 8.75                |\r\n",
    "| 16        | 2450293.31   | 6.00                |\r\n",
    "| 191       | 1738954.53   | 4.26                |\r\n",
    "| 2810      | 1458379.19   | 3.57                |\r\n",
    "| 2356      | 1326626.45   | 3.25                |\r\n",
    "| 269       | 1224183.98   | 3.00                |\r\n",
    "| 181       | 1164656.65   | 2.85                |\r\n",
    "| 2382      | 1117873.07   | 2.74                |\r\n",
    "| 527       | 1014406.70   | 2.48                |\r\n",
    "| 2548      | 961400.48    | 2.35                |\r\n"
   ]
  },
  {
   "cell_type": "markdown",
   "id": "8ce7bc1c-d39e-4341-9eba-4f483cc1dd48",
   "metadata": {},
   "source": [
    "| user_agent                                                                                                                           | total_usd    | percentage_of_total |\r\n",
    "| ------------------------------------------------------------------------------------------------------------------------------------- | ------------ | ------------------- |\r\n",
    "| Mozilla/5.0 (iPhone; CPU iPhone OS 16_3_1 like Mac OS X) AppleWebKit/605.1.15 (KHTML, like Gecko) Version/16.3 Mobile/15E148 Safari/604.1 | 1704113.63   | 4.17                |\r\n",
    "| Mozilla/5.0 (iPhone; CPU iPhone OS 16_1_1 like Mac OS X) AppleWebKit/605.1.15 (KHTML, like Gecko) Version/16.1 Mobile/15E148 Safari/604.1 | 1634761.94   | 4.00                |\r\n",
    "| Mozilla/5.0 (iPhone; CPU iPhone OS 16_2 like Mac OS X) AppleWebKit/605.1.15 (KHTML, like Gecko) Version/16.2 Mobile/15E148 Safari/604.1 | 1409454.39   | 3.45                |\r\n",
    "| Mozilla/5.0 (Windows NT 10.0; Win64; x64) AppleWebKit/537.36 (KHTML, like Gecko) Chrome/114.0.0.0 Safari/537.36 | 1073609.31   | 2.63                |\r\n",
    "| api/booking                                                                                                                            | 986779.28    | 2.42                |\r\n",
    "| Mozilla/5.0 (iPhone; CPU iPhone OS 16_6 like Mac OS X) AppleWebKit/605.1.15 (KHTML, like Gecko) Version/16.6 Mobile/15E148 Safari/604.1 | 866719.39    | 2.12                |\r\n",
    "| Mozilla/5.0 (Linux; Android 10; K) AppleWebKit/537.36 (KHTML, like Gecko) Chrome/114.0.0.0 Mobile Safari/537.36 | 811358.62    | 1.99                |\r\n",
    "| Mozilla/5.0 (Windows NT 10.0; Win64; x64) AppleWebKit/537.36 (KHTML, like Gecko) Chrome/109.0.0.0 Safari/537.36 | 803600.83    | 1.97                |\r\n",
    "| Mozilla/5.0 (iPhone; CPU iPhone OS 15_6_1 like Mac OS X) AppleWebKit/605.1.15 (KHTML, like Gecko) Version/15.6.1 Mobile/15E148 Safari/604.1 | 777711.98    | 1.90                |\r\n",
    "| Mozilla/5.0 (Windows NT 10.0; Win64; x64) AppleWebKit/537.36 (KHTML, like Gecko) Chrome/111.0.0.0 Safari/537.36 | 703656.87    | 1.72                |\r\n"
   ]
  },
  {
   "cell_type": "markdown",
   "id": "de7c96a3-bb0d-4676-9dc2-c13b2912157b",
   "metadata": {},
   "source": [
    "| createdby | total_usd    | percentage_of_total |\r\n",
    "| --------- | ------------ | ------------------- |\r\n",
    "| 1         | 13102713.04  | 32.07               |\r\n",
    "| 4         | 12961968.52  | 31.73               |\r\n",
    "| 30        | 3535039.23   | 8.65                |\r\n",
    "| 3481      | 1363260.13   | 3.34                |\r\n",
    "| 6795      | 1125172.30   | 2.75                |\r\n",
    "| 4087482   | 867932.77    | 2.12                |\r\n",
    "| 64932     | 620355.82    | 1.52                |\r\n",
    "| 56330     | 567092.21    | 1.39                |\r\n",
    "| 20092     | 453332.18    | 1.11                |\r\n",
    "| 26        | 452194.42    | 1.11                |\r\n"
   ]
  },
  {
   "cell_type": "markdown",
   "id": "aa731db9-3321-4eb1-a1f5-3c3a565bd179",
   "metadata": {},
   "source": [
    "| landing                                   | total_usd    | percentage_of_total |\r\n",
    "| ----------------------------------------- | ------------ | ------------------- |\r\n",
    "| https://12go.asia/                       | 2678038.17   | 6.56                |\r\n",
    "| https://www.12go.asia/en                  | 2600910.67   | 6.37                |\r\n",
    "| https://12go.asia/en                      | 1850652.39   | 4.53                |\r\n",
    "| https://12go.co/                         | 1206299.24   | 2.95                |\r\n",
    "| https://www.12go.co/en                    | 667756.03    | 1.63                |\r\n",
    "| https://12go.asia/fr                      | 333007.60    | 0.82                |\r\n",
    "| https://secure.12go.asia/en/login         | 330881.29    | 0.81                |\r\n",
    "| https://12go.asia/de                      | 327467.61    | 0.80                |\r\n",
    "| https://www.12go.asia/de                  | 320521.65    | 0.78                |\r\n",
    "| https://www.12go.asia/fr                  | 280009.97    | 0.69                |\r\n"
   ]
  },
  {
   "cell_type": "markdown",
   "id": "2245ffb0-39cb-41b0-b9d6-86fb5fe832ae",
   "metadata": {},
   "source": [
    "### 2. **Enhance Marketing and Customer Acquisition Strategies (Medium to High Business Value)**\n",
    "   **Hypothesis:** Improved marketing and targeted customer acquisition strategies can increase overall sales volume and revenue.\n",
    "   \n",
    "   **Recommendations:**\n",
    "   - **Targeted Advertising:** Utilize data analytics to identify high-value customer segments and create targeted advertising campaigns through digital marketing channels, including social media, search engines, and email marketing.\n",
    "   - **Loyalty Programs:** Develop and promote loyalty programs to encourage repeat bookings. Offer points or discounts for frequent travelers, which can increase customer retention and lifetime value.\n",
    "   - **Partnerships:** Partner with travel agencies, corporate clients, and other relevant businesses to offer bundled deals and increase sales through their networks."
   ]
  },
  {
   "cell_type": "markdown",
   "id": "c46e5b56-9e6c-46a5-84aa-192953030324",
   "metadata": {},
   "source": [
    "### 3. **Improve Customer Experience and Service Offerings (Medium Business Value)**\n",
    "   **Hypothesis:** Enhancing the overall customer experience and expanding service offerings can lead to increased customer satisfaction, repeat business, and higher revenue per seat.\n",
    "   \n",
    "   **Recommendations:**\n",
    "   - **Customer Feedback:** Regularly gather and analyze customer feedback to identify areas for improvement. Implement changes based on this feedback to enhance the overall travel experience.\n",
    "   - **Additional Services:** Introduce value-added services such as in-transit entertainment, Wi-Fi, meal options, and comfortable seating arrangements. Offer these as premium services to increase revenue per seat.\n",
    "   - **Ease of Booking:** Simplify the booking process on the website and mobile apps. Ensure a user-friendly interface and offer multiple payment options to cater to a broader audience."
   ]
  },
  {
   "cell_type": "markdown",
   "id": "17faa9c8-5ebc-4e4a-84fe-4e15e356260f",
   "metadata": {},
   "source": [
    "### Data-Driven Approach:\n",
    "To validate these hypotheses and implement the recommendations effectively, consider the following steps:\n",
    "\n",
    "1. **Data Analysis:** Conduct detailed data analysis to understand customer behavior, booking patterns, and price sensitivity. Use historical data from 2019 and 2023 to identify trends and insights.\n",
    "2. **A/B Testing:** Implement A/B testing for dynamic pricing models, marketing campaigns, and service enhancements to measure their impact on sales and revenue.\n",
    "3. **Customer Surveys:** Perform surveys and gather qualitative data to supplement quantitative analysis. This can provide deeper insights into customer preferences and satisfaction levels.\n",
    "\n",
    "By implementing these hypotheses and recommendations, the company can potentially increase its sales and revenue, thereby improving the Eran per Seat (eps) and overall business performance."
   ]
  },
  {
   "cell_type": "code",
   "execution_count": 3,
   "id": "2236f830-9431-4b0f-ac03-8266ded65371",
   "metadata": {},
   "outputs": [
    {
     "name": "stdout",
     "output_type": "stream",
     "text": [
      "Requirement already satisfied: mysql-connector-python in c:\\users\\lenovo\\anaconda3\\lib\\site-packages (9.0.0)\n",
      "Note: you may need to restart the kernel to use updated packages.\n"
     ]
    }
   ],
   "source": [
    "pip install mysql-connector-python"
   ]
  },
  {
   "cell_type": "code",
   "execution_count": 5,
   "id": "d2f882d4-f7cc-45e0-b1fd-eaeb67754f68",
   "metadata": {},
   "outputs": [
    {
     "name": "stdout",
     "output_type": "stream",
     "text": [
      "Connected to the database\n",
      "You're connected to the database: ('12go',)\n",
      "   netprice_usd  total_usd  seats\n",
      "0         17.81      48.98      2\n",
      "1         17.81      48.98      2\n",
      "2         20.25      48.34      2\n",
      "3         34.12      74.91      2\n",
      "4         12.24      15.58      1\n",
      "Correlation matrix:\n",
      "              netprice_usd  total_usd     seats\n",
      "netprice_usd      1.000000   0.998185 -0.002073\n",
      "total_usd         0.998185   1.000000  0.025414\n",
      "seats            -0.002073   0.025414  1.000000\n",
      "Correlation between netprice_usd and total_usd: 1.00\n",
      "Correlation between netprice_usd and seats: -0.00\n",
      "MySQL connection is closed\n"
     ]
    }
   ],
   "source": [
    "import mysql.connector\n",
    "import pandas as pd\n",
    "from mysql.connector import Error\n",
    "\n",
    "# Define the SQL query to fetch the relevant data from the `analytic_test_booking` table\n",
    "query = \"\"\"\n",
    "SELECT \n",
    "    netprice_usd,\n",
    "    total_usd,\n",
    "    seats\n",
    "FROM \n",
    "    analytic_test_booking\n",
    "\"\"\"\n",
    "\n",
    "try:\n",
    "    # Establish the connection\n",
    "    connection = mysql.connector.connect(\n",
    "        host='hrtest.12go.asia',\n",
    "        port=20062,\n",
    "        user='hrtest-ro',\n",
    "        password='q2FTQezFKRmHp',\n",
    "        database='12go'\n",
    "    )\n",
    "\n",
    "    if connection.is_connected():\n",
    "        print(\"Connected to the database\")\n",
    "\n",
    "        # Create a cursor object using cursor() method\n",
    "        cursor = connection.cursor()\n",
    "\n",
    "        # Execute a sample query to confirm connection\n",
    "        cursor.execute(\"SELECT DATABASE();\")\n",
    "        record = cursor.fetchone()\n",
    "        print(\"You're connected to the database:\", record)\n",
    "\n",
    "        # Execute the main query\n",
    "        cursor.execute(query)\n",
    "        \n",
    "        # Fetch all the results\n",
    "        results = cursor.fetchall()\n",
    "\n",
    "        # Create a DataFrame from the results\n",
    "        df = pd.DataFrame(results, columns=['netprice_usd', 'total_usd', 'seats'])\n",
    "\n",
    "        # Display the first few rows of the DataFrame\n",
    "        print(df.head())\n",
    "\n",
    "        # Drop rows with missing values for correlation analysis\n",
    "        df = df.dropna()\n",
    "\n",
    "        # Calculate correlation matrix\n",
    "        correlation_matrix = df[['netprice_usd', 'total_usd', 'seats']].corr()\n",
    "\n",
    "        # Print the correlation matrix\n",
    "        print(\"Correlation matrix:\")\n",
    "        print(correlation_matrix)\n",
    "\n",
    "        # Compute the correlation between specific pairs\n",
    "        correlation_netprice_total_usd = df['netprice_usd'].corr(df['total_usd'])\n",
    "        correlation_netprice_seats = df['netprice_usd'].corr(df['seats'])\n",
    "\n",
    "        print(f\"Correlation between netprice_usd and total_usd: {correlation_netprice_total_usd:.2f}\")\n",
    "        print(f\"Correlation between netprice_usd and seats: {correlation_netprice_seats:.2f}\")\n",
    "\n",
    "except Error as e:\n",
    "    print(f\"An error occurred: {e}\")\n",
    "\n",
    "finally:\n",
    "    # Ensure the connection is closed\n",
    "    if connection.is_connected():\n",
    "        cursor.close()\n",
    "        connection.close()\n",
    "        print(\"MySQL connection is closed\")"
   ]
  }
 ],
 "metadata": {
  "kernelspec": {
   "display_name": "Python 3 (ipykernel)",
   "language": "python",
   "name": "python3"
  },
  "language_info": {
   "codemirror_mode": {
    "name": "ipython",
    "version": 3
   },
   "file_extension": ".py",
   "mimetype": "text/x-python",
   "name": "python",
   "nbconvert_exporter": "python",
   "pygments_lexer": "ipython3",
   "version": "3.11.7"
  }
 },
 "nbformat": 4,
 "nbformat_minor": 5
}
