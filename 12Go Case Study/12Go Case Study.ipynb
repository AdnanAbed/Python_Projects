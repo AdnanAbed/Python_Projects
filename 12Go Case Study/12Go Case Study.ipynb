{
 "cells": [
  {
   "cell_type": "markdown",
   "id": "b1078377-ca0d-4862-b45f-51908d4a6e63",
   "metadata": {},
   "source": [
    "# Hypothesis and Recommendations for Company Growth\n",
    "\n",
    "**Case Study of 12Go** \n",
    "\n",
    "We have gathered booking data for 2019 and 2023 in this table. These are not full years, but\n",
    "Q1/Q2/Q3 for both years.\n",
    "\n",
    "Analysis achieved by: Adnan Abed\n",
    "\n",
    "Address: Warsaw, Poland\n",
    "Email: adn.abed@gamil.com\n",
    "Tel.: +48 730 726 134\n",
    "Date of submission: 20/07/2023"
   ]
  },
  {
   "cell_type": "markdown",
   "id": "fb3373b8-7f47-45da-aabb-2324f8f909b2",
   "metadata": {},
   "source": [
    "We have gathered booking data for 2019 and 2023 in this table. These are not full years, but Q1/Q2/Q3 for both years."
   ]
  },
  {
   "cell_type": "markdown",
   "id": "57c55deb-bbfb-4eb0-8f8f-4bfdb415de09",
   "metadata": {},
   "source": [
    "## Objective\n",
    "\n",
    "The main goals of the assessment are to find what has changed and why and provide\n",
    "hypotheses/recommendations for future growth- \n",
    "-  Investigate what happened with the metric “EPS” (Earn Per Seat). Was there any change in EPS between these two years, and if it is, why?\n",
    "-  Based on the data, try to make at least 3 more hypotheses/recommendations about increasing sales/revenue and ranking them by business value."
   ]
  },
  {
   "cell_type": "markdown",
   "id": "1b9bde53-10f1-413d-bde4-4ab6715b8575",
   "metadata": {},
   "source": [
    "## Data Analysis\n",
    "### Data Description\n",
    "\n",
    "- The data set includes 2846263 records and  52 columns\n",
    "- No duplicates (Bid is a primary key).\n",
    "- Essential number of Null values in the column paidon_date (680356 rows), we have to exclude these rows when considering calculation based on date. \n",
    "- The columns (paygate_code, seller_name,class_name, vehclass_id, status_id, and channel) are all with empty cells. Trip_key has 1035143 empty values. "
   ]
  },
  {
   "cell_type": "markdown",
   "id": "b2aa9e10-a10e-4b95-ba7a-04bac981cb05",
   "metadata": {},
   "source": [
    "### Data Exploration Analysis DEA\r\n",
    "Let’s calculate the Earn per Seat for years 2019 and 2023 to see the development.3.\r\n"
   ]
  },
  {
   "cell_type": "markdown",
   "id": "1ccb4a01-882a-486c-bf80-610997733c96",
   "metadata": {},
   "source": [
    "```SQL\n",
    "\n",
    "SELECT \n",
    "    EXTRACT(YEAR FROM paidon_date) AS Year,\n",
    "    Round(SUM(total_usd), 2) AS t_total_usd,\n",
    "    Round(SUM(seats), 2) AS total_seats,\n",
    "    Round(SUM(total_usd) / SUM(seats), 2) AS eps\n",
    "FROM \n",
    "    analytic_test_booking\n",
    "WHERE\n",
    "    EXTRACT(YEAR FROM paidon_date) IS NOT NULL\n",
    "GROUP BY \n",
    "    EXTRACT(YEAR FROM paidon_date)\n",
    "ORDER BY \n",
    "    Year;\n",
    " \r\n",
    "    Year;\r\n",
    "\n",
    "```"
   ]
  },
  {
   "cell_type": "markdown",
   "id": "4798ffe3-9ac4-4916-804a-14bf067dac37",
   "metadata": {},
   "source": [
    "| Year | total_usd      | total_seats | eps                 |\n",
    "|------|----------------|-------------|---------------------|\n",
    "| 2019 | 16857805.94 | 987923      | 17.06  |\n",
    "| 2023 | 40853409.64  | 3139188     | 13.01  |\n"
   ]
  },
  {
   "cell_type": "code",
   "execution_count": 16,
   "id": "3dc3f86a-93c9-4272-ba27-4f29d0fb0b81",
   "metadata": {},
   "outputs": [
    {
     "data": {
      "image/png": "[encoded data removed]",
      "text/plain": [
       "<Figure size 640x480 with 1 Axes>"
      ]
     },
     "metadata": {},
     "output_type": "display_data"
    }
   ],
   "source": [
    "import matplotlib.pyplot as plt\n",
    "\n",
    "# Data\n",
    "years = [2019, 2023]\n",
    "eps_values = [17.06, 13.01]\n",
    "\n",
    "# Create a figure and axis\n",
    "fig, ax = plt.subplots()\n",
    "\n",
    "# Plot data\n",
    "ax.bar(years, eps_values, color=['blue', 'green'])\n",
    "\n",
    "# Set the title and labels\n",
    "ax.set_title('Fig. 1: Comparing Earn per Seat (EPS) between 2019 and 2023')\n",
    "ax.set_xlabel('Year')\n",
    "ax.set_ylabel('EPS')\n",
    "\n",
    "# Display the plot\n",
    "plt.show()"
   ]
  },
  {
   "cell_type": "markdown",
   "id": "9b47e419-aee8-4e6f-97bb-620322c555f7",
   "metadata": {},
   "source": [
    "The EPS for 2023 is lower than that of 2019. Let's analyze the reasons why."
   ]
  },
  {
   "cell_type": "markdown",
   "id": "2530d688-b69b-40b4-82ef-bb8641892c35",
   "metadata": {},
   "source": [
    "### Why did EPS drop? \r\n",
    "To determine which factor led to the decrease in earnings per seat (eps) from 2019 to 2023, we can analyze the growth rates of total_usd and seats during this period. If the total_usd increased slower than the seats, it could have contributed to the decrease in eps. Let's test this hypothesis.\r\n",
    "\r\n",
    "Table 2: The growth in Revenue and seat demand\r\n"
   ]
  },
  {
   "cell_type": "markdown",
   "id": "4fa1fec6-59ec-4b04-b530-9603bdefe1bd",
   "metadata": {},
   "source": [
    "```sql\n",
    "\n",
    "WITH YearlyData AS (\n",
    "    SELECT \n",
    "        EXTRACT(YEAR FROM paidon_date) AS Year,\n",
    "        SUM(total_usd) AS t_total_usd,\n",
    "        SUM(seats) AS total_seats\n",
    "    FROM \n",
    "        analytic_test_booking\n",
    "    WHERE\n",
    "    EXTRACT(YEAR FROM paidon_date) IS NOT NULL\n",
    "    GROUP BY \n",
    "        EXTRACT(YEAR FROM paidon_date)\n",
    "),\n",
    "GrowthRates AS (\n",
    "    SELECT \n",
    "        Year,\n",
    "        t_total_usd,\n",
    "        total_seats,\n",
    "        LAG(t_total_usd) OVER (ORDER BY Year) AS prev_total_usd,\n",
    "        LAG(total_seats) OVER (ORDER BY Year) AS prev_total_seats\n",
    "    FROM \n",
    "        YearlyData\n",
    ")\n",
    "SELECT \n",
    "    Year,\n",
    "    t_total_usd,\n",
    "    total_seats,\n",
    "    (t_total_usd - prev_total_usd) / prev_total_usd * 100 AS total_usd_growth_rate,\n",
    "    (total_seats - prev_total_seats) / prev_total_seats * 100 AS total_seats_growth_rate,\n",
    "    t_total_usd / total_seats AS eps\n",
    "FROM \n",
    "    GrowthRates\n",
    "ORDER BY \n",
    "    Year;\n",
    "```"
   ]
  },
  {
   "cell_type": "markdown",
   "id": "5f522d87-3544-4181-a4af-9d738ccb2be7",
   "metadata": {},
   "source": [
    "| Year | t_total_usd       | total_seats | total_usd_growth_rate | total_seats_growth_rate | eps                 |\r\n",
    "|------|-------------------|-------------|-----------------------|-------------------------|---------------------|\r\n",
    "| 2019 | 16857805.96 | 987923      | NULL                  | NULL                    | 17.94  |\r\n",
    "| 2023 | 40853409527  | 3139188     | 14254    | 21.563                | 13049  |\r\n"
   ]
  },
  {
   "cell_type": "markdown",
   "id": "4fcabe21-81e6-418e-b227-c5a483b3e8df",
   "metadata": {},
   "source": [
    "As expected the sum of total_usd grew at a slower rate than the sum of seats causing the drop in EPS for 2023. Next step we will focus on the drop in revenue rather than the growth in demand (Seats).\n",
    "### Deep Dive into the Revenue Analysis\n",
    "The observation that the growth in total seats is higher than the growth in total earnings can be attributed to several potential reasons. Here are some possible explanations:\n"
   ]
  },
  {
   "cell_type": "markdown",
   "id": "2956e4e7-950c-41db-83f8-393af505d396",
   "metadata": {},
   "source": [
    "#### Hypothesis:\n",
    "- Price Analysis:\n",
    "    - Analyse the average price per seat over the years to see if prices have dropped significantly.\n",
    "- Revenue Segmentation:\n",
    "    - Break down the total earnings by product or service categories to identify if certain segments have experienced a decline in average revenue per seat.\n",
    "- Promotional Impact:\n",
    "    - Examine the impact of promotions, discounts, and other pricing strategies over time.\n",
    "- Customer Demographics and Preferences:\n",
    "    - Study changes in customer demographics and preferences to understand if there is a shift towards cheaper or different types of services.\n",
    "##### Price Analysis:\n",
    "Let’s analyse EPS and the average price per seat over the two years to see if prices have dropped significantly.\n"
   ]
  },
  {
   "cell_type": "markdown",
   "id": "51f83f55-b954-4fbc-b599-3d2ebcad266e",
   "metadata": {},
   "source": [
    "```sql\n",
    "SELECT \n",
    "    year,\n",
    "    quarter,\n",
    "    AVG(eps) AS avg_eps\n",
    "FROM (\n",
    "    SELECT\n",
    "        EXTRACT(YEAR FROM paidon_date) AS year,\n",
    "        EXTRACT(QUARTER FROM paidon_date) AS quarter,\n",
    "        total_usd / seats AS eps\n",
    "    FROM \n",
    "        analytic_test_booking\n",
    "    WHERE\n",
    "        EXTRACT(YEAR FROM paidon_date) IS NOT NULL\n",
    ") AS subquery\n",
    "WHERE\n",
    "    quarter IN (1, 2, 3)\n",
    "GROUP BY \n",
    "    year,\n",
    "    quarter\n",
    "ORDER BY \n",
    "    year,\n",
    "    quarter;\n",
    "```"
   ]
  },
  {
   "cell_type": "markdown",
   "id": "ee6c1fb3-e210-441d-bc5f-10369c45b036",
   "metadata": {},
   "source": [
    "Table 3: Comparing Average EPS between 2019 and 2023"
   ]
  },
  {
   "cell_type": "markdown",
   "id": "907322d9-7cc5-483c-b4a6-f8233bf52643",
   "metadata": {},
   "source": [
    "| year | quarter | avg_eps |\n",
    "| ---- | ------- | ------- |\n",
    "| 2019 | 1       | 17.24   |\n",
    "| 2019 | 2       | 16.91   |\n",
    "| 2019 | 3       | 17.90   |\n",
    "| 2023 | 1       | 13.80   |\n",
    "| 2023 | 2       | 12.95   |\n",
    "| 2023 | 3       | 12.55   |\n"
   ]
  },
  {
   "cell_type": "code",
   "execution_count": 25,
   "id": "c0289ec0-d074-442c-9374-3bee973c325f",
   "metadata": {},
   "outputs": [
    {
     "data": {
      "image/png": "[encoded data removed]",
      "text/plain": [
       "<Figure size 640x480 with 1 Axes>"
      ]
     },
     "metadata": {},
     "output_type": "display_data"
    }
   ],
   "source": [
    "import matplotlib.pyplot as plt\r\n",
    "\r\n",
    "# Data\r\n",
    "years_quarters = ['2019 Q1', '2019 Q2', '2019 Q3', '2023 Q1', '2023 Q2', '2023 Q3']\r\n",
    "avg_eps_values = [17.24, 16.91, 17.90, 13.80, 12.95, 12.55]\r\n",
    "\r\n",
    "# Create a figure and axis\r\n",
    "fig, ax = plt.subplots()\r\n",
    "\r\n",
    "# Plot data\r\n",
    "ax.bar(years_quarters, avg_eps_values, color=['blue', 'blue', 'blue', 'green', 'green', 'green'])\r\n",
    "\r\n",
    "# Set the title and labels\r\n",
    "ax.set_title('Fig. 2: Comparing average EPS between 2019 and 2023')\r\n",
    "ax.set_xlabel('Year and Quarter')\r\n",
    "ax.set_ylabel('Average EPS')\r\n",
    "\r\n",
    "# Display the plot\r\n",
    "plt.show()\r\n"
   ]
  },
  {
   "cell_type": "markdown",
   "id": "184635b2-f11f-4aad-bd1a-7dc728baf87d",
   "metadata": {},
   "source": [
    "```sql\n",
    "SELECT \n",
    "    YEAR(paidon_date) AS year,\n",
    "    QUARTER(paidon_date) AS quarter,\n",
    "    ROUND(AVG(netprice_usd), 2) AS average_netprice_usd\n",
    "FROM \n",
    "    analytic_test_booking\n",
    "WHERE \n",
    "    YEAR(paidon_date) IN (2019, 2023) \n",
    "    AND QUARTER(paidon_date) IN (1, 2, 3)\n",
    "    AND YEAR(paidon_date) IS NOT NULL\n",
    "GROUP BY \n",
    "    YEAR(paidon_date), \n",
    "    QUARTER(paidon_date)\n",
    "ORDER BY \n",
    "    YEAR(paidon_date), \n",
    "    QUARTER(paidon_date);\n",
    "\n",
    "\n",
    "```\n"
   ]
  },
  {
   "cell_type": "markdown",
   "id": "fd9f334d-0251-4e87-ac3d-20644d2252b6",
   "metadata": {},
   "source": [
    "Table 4: Comparing the average quarterly NetPrice between 2019 and 2023. "
   ]
  },
  {
   "cell_type": "markdown",
   "id": "b821c978-3eed-4a1e-84e5-ca3c26d404b6",
   "metadata": {},
   "source": [
    "| year | quarter | average_netprice_usd |\n",
    "| ---- | ------- | -------------------- |\n",
    "| 2019 | 1       | 14.00                |\n",
    "| 2019 | 2       | 13.71                |\n",
    "| 2019 | 3       | 14.52                |\n",
    "| 2023 | 1       | 11.45                |\n",
    "| 2023 | 2       | 10.72                |\n",
    "| 2023 | 3       | 10.32                |"
   ]
  },
  {
   "cell_type": "code",
   "execution_count": 32,
   "id": "4391fb13-fb80-4743-afdf-229bb2c294ad",
   "metadata": {},
   "outputs": [
    {
     "data": {
      "image/png": "[encoded data removed]",
      "text/plain": [
       "<Figure size 640x480 with 1 Axes>"
      ]
     },
     "metadata": {},
     "output_type": "display_data"
    }
   ],
   "source": [
    "import matplotlib.pyplot as plt\n",
    "\n",
    "# Data\n",
    "years_quarters = ['2019 Q1', '2019 Q2', '2019 Q3', '2023 Q1', '2023 Q2', '2023 Q3']\n",
    "average_netprice_usd = [14.00, 13.71, 14.52, 11.45, 10.72, 10.32]\n",
    "\n",
    "# Create a figure and axis\n",
    "fig, ax = plt.subplots()\n",
    "\n",
    "# Plot data\n",
    "ax.bar(years_quarters, average_netprice_usd, color=['blue', 'blue', 'blue', 'green', 'green', 'green'])\n",
    "\n",
    "# Set the title and labels\n",
    "ax.set_title('Fig. 2: Comparing Average Net Price USD between 2019 and 2023')\n",
    "ax.set_xlabel('Year and Quarter')\n",
    "ax.set_ylabel('Average Net Price USD')\n",
    "\n",
    "# Display the plot\n",
    "plt.show()\n"
   ]
  },
  {
   "cell_type": "markdown",
   "id": "81532f04-6a68-48b7-8cc6-73541b7c7889",
   "metadata": {},
   "source": [
    "The drop in average EPS was associated with a drop in average Net prices between the two years. \r\n"
   ]
  },
  {
   "cell_type": "markdown",
   "id": "dc9a52ea-a881-4dce-bc39-286266ff016e",
   "metadata": {},
   "source": [
    "##### Revenue Segmentation:\r\n",
    "Break down the total earnings by product or service categories to identify if certain segments have experienced a decline in average revenue per seat. Though we don’t have a lot of data showing the different offerings, we will analyse the available data based on the Class_id.\r\n"
   ]
  },
  {
   "cell_type": "markdown",
   "id": "45bb8b26-70bf-4e52-9b6f-9c73a9c26936",
   "metadata": {},
   "source": [
    "- **Revenue Segmentation:**\n",
    "  - Break down the total earnings by product or service categories to identify if certain segments have experienced a decline in average revenue per seat."
   ]
  },
  {
   "cell_type": "markdown",
   "id": "dffc8694-bc12-44cc-b957-b4b493b00e04",
   "metadata": {},
   "source": [
    "``` SQL\n",
    "WITH avg_eps AS (\n",
    "    SELECT \n",
    "        class_id,\n",
    "        ROUND(AVG(CASE WHEN year = 2019 THEN eps END), 2) AS avg_eps_2019,\n",
    "        ROUND(AVG(CASE WHEN year = 2023 THEN eps END), 2) AS avg_eps_2023\n",
    "    FROM (\n",
    "        SELECT\n",
    "            EXTRACT(YEAR FROM paidon_date) AS year,\n",
    "            class_id,\n",
    "            total_usd / seats AS eps\n",
    "        FROM \n",
    "            analytic_test_booking\n",
    "        WHERE\n",
    "            EXTRACT(YEAR FROM paidon_date) IS NOT NULL\n",
    "    ) AS subquery\n",
    "    WHERE\n",
    "        year IN (2019, 2023)\n",
    "    GROUP BY \n",
    "        class_id\n",
    ")\n",
    "SELECT \n",
    "    class_id,\n",
    "    avg_eps_2019,\n",
    "    avg_eps_2023,\n",
    "    ROUND(ABS(avg_eps_2019 - avg_eps_2023), 2) AS diff_avg_eps\n",
    "FROM \n",
    "    avg_eps\n",
    "WHERE \n",
    "    avg_eps_2019 IS NOT NULL \n",
    "    AND avg_eps_2023 IS NOT NULL\n",
    "ORDER BY \n",
    "    diff_avg_eps DESC\n",
    "LIMIT 10;\n",
    "\n",
    "```"
   ]
  },
  {
   "cell_type": "markdown",
   "id": "401a5ce2-425e-4c1b-ad98-f69a02d0aac0",
   "metadata": {},
   "source": [
    "Table 5: Top 10 classes_id have experienced the highest difference in the average of EPS in 2019 and 2023.\r\n"
   ]
  },
  {
   "cell_type": "markdown",
   "id": "c984e878-a1f3-417a-b3df-715b82723769",
   "metadata": {},
   "source": [
    "| class_id | avg_eps_2019 | avg_eps_2023 | diff_avg_eps |\r\n",
    "| -------- | ------------ | ------------ | ------------ |\r\n",
    "| 1918     | 2178.63      | 13.09        | 2165.54      |\r\n",
    "| 1662     | 97.84        | 7.75         | 90.09        |\r\n",
    "| 20       | 18.08        | 83.42        | 65.34        |\r\n",
    "| 1597     | 78.25        | 25.62        | 52.63        |\r\n",
    "| 28       | 21.94        | 57.11        | 35.17        |\r\n",
    "| 1320     | 89.44        | 54.59        | 34.85        |\r\n",
    "| 2728     | 59.86        | 26.31        | 33.55        |\r\n",
    "| 34       | 6.77         | 36.16        | 29.39        |\r\n",
    "| 1607     | 5.40         | 29.92        | 24.52        |\r\n",
    "| 1155     | 43.35        | 18.84        | 24.51        |\r\n"
   ]
  },
  {
   "cell_type": "code",
   "execution_count": 39,
   "id": "672a10e0-6878-4d14-9935-f4e8e0f84c21",
   "metadata": {},
   "outputs": [
    {
     "data": {
      "image/png": "[encoded data removed]",
      "text/plain": [
       "<Figure size 640x480 with 1 Axes>"
      ]
     },
     "metadata": {},
     "output_type": "display_data"
    }
   ],
   "source": [
    "import matplotlib.pyplot as plt\n",
    "\n",
    "# Data\n",
    "class_id = ['1918', '1662', '20', '1597', '28', '1320', '2728', '34', '1607', '1155']\n",
    "diff_avg_eps = [2165.54, 90.09, 65.34, 52.63, 35.17, 34.85, 33.55, 29.39, 24.52, 24.51]\n",
    "\n",
    "# Create a figure and axis\n",
    "fig, ax = plt.subplots()\n",
    "\n",
    "# Plot data\n",
    "ax.bar(class_id, diff_avg_eps, color='purple')\n",
    "\n",
    "# Set the title and labels\n",
    "ax.set_title('Fig. 4: Top 10 classes_id have experienced the highest difference of average EPS in 2019 and 2023')\n",
    "ax.set_xlabel('Class ID')\n",
    "ax.set_ylabel('Difference in Average EPS')\n",
    "\n",
    "# Display the plot\n",
    "plt.show()\n"
   ]
  },
  {
   "cell_type": "markdown",
   "id": "1a928c6f-4d73-4871-a407-bbd6cee510df",
   "metadata": {},
   "source": [
    "##### Promotional Impact:\n",
    "Examine the impact of promotions, discounts, and other pricing strategies over time.\n",
    "In the current phase, we don’t have access to the promotional data to analyse such impact. **Comparative Analysis** would be useful to compare sales and profits before, during, and after promotions.\n",
    "##### Customer Demographics and Preferences:\n",
    "Study changes in customer demographics and preferences to understand if there is a shift towards cheaper or different types of services."
   ]
  },
  {
   "cell_type": "markdown",
   "id": "4fd0f608-3f09-43a2-ba68-887cfc8cd6da",
   "metadata": {},
   "source": [
    "- **Customer Demographics and Preferences:**\n",
    "  - Study changes in customer demographics and preferences to understand if there is a shift towards cheaper or different types of services."
   ]
  },
  {
   "cell_type": "markdown",
   "id": "f287fc52-eb06-4b75-8c89-de54a62552f7",
   "metadata": {},
   "source": [
    "```sql\n",
    "WITH avg_eps AS (\n",
    "    SELECT \n",
    "        country_id,\n",
    "        ROUND(AVG(CASE WHEN year = 2019 THEN eps END), 2) AS avg_eps_2019,\n",
    "        ROUND(AVG(CASE WHEN year = 2023 THEN eps END), 2) AS avg_eps_2023\n",
    "    FROM (\n",
    "        SELECT\n",
    "            EXTRACT(YEAR FROM paidon_date) AS year,\n",
    "            country_id,\n",
    "            total_usd / seats AS eps\n",
    "        FROM \n",
    "            analytic_test_booking\n",
    "        WHERE\n",
    "            EXTRACT(YEAR FROM paidon_date) IS NOT NULL\n",
    "    ) AS subquery\n",
    "    WHERE\n",
    "        year IN (2019, 2023)\n",
    "    GROUP BY \n",
    "        country_id\n",
    ")\n",
    "SELECT \n",
    "    country_id,\n",
    "    avg_eps_2019,\n",
    "    avg_eps_2023,\n",
    "    ROUND((avg_eps_2019 - avg_eps_2023), 2) AS diff_avg_eps\n",
    "FROM \n",
    "    avg_eps\n",
    "WHERE \n",
    "    avg_eps_2019 IS NOT NULL \n",
    "    AND avg_eps_2023 IS NOT NULL\n",
    "ORDER BY \n",
    "    diff_avg_eps DESC\n",
    "LIMIT 10;\n",
    "\n",
    "```"
   ]
  },
  {
   "cell_type": "markdown",
   "id": "cb48f8c7-39c0-4e44-8f25-a5fd880cc8d2",
   "metadata": {},
   "source": [
    "Table 6: Top 10 countries with extreme drop in average EPS comparing 2019 and 2023.\r\n"
   ]
  },
  {
   "cell_type": "markdown",
   "id": "70de749e-83b0-4c1a-b41c-ec3284d11385",
   "metadata": {},
   "source": [
    "| country_id | avg_eps_2019 | avg_eps_2023 | diff_avg_eps |\n",
    "| ---------- | ------------ | ------------ | ------------ |\n",
    "| AZ         | 57.27        | 11.83        | 45.44        |\n",
    "| LR         | 46.08        | 8.00         | 38.08        |\n",
    "| ZM         | 56.47        | 23.24        | 33.23        |\n",
    "| ME         | 39.41        | 12.26        | 27.15        |\n",
    "| PY         | 34.93        | 12.18        | 22.75        |\n",
    "| GT         | 37.07        | 16.14        | 20.93        |\n",
    "| CV         | 33.22        | 13.18        | 20.04        |\n",
    "| CR         | 35.28        | 16.57        | 18.71        |\n",
    "| SV         | 28.64        | 10.76        | 17.88        |\n",
    "| CK         | 27.80        | 10.27        | 17.53        |\n"
   ]
  },
  {
   "cell_type": "code",
   "execution_count": 46,
   "id": "50ba0159-0bae-40c3-9f46-4122cc7f2503",
   "metadata": {},
   "outputs": [
    {
     "name": "stdout",
     "output_type": "stream",
     "text": [
      "Collecting squarify\n",
      "  Downloading squarify-0.4.4-py3-none-any.whl.metadata (600 bytes)\n",
      "Downloading squarify-0.4.4-py3-none-any.whl (4.1 kB)\n",
      "Installing collected packages: squarify\n",
      "Successfully installed squarify-0.4.4\n",
      "Note: you may need to restart the kernel to use updated packages.\n"
     ]
    }
   ],
   "source": [
    "pip install squarify\n"
   ]
  },
  {
   "cell_type": "code",
   "execution_count": 48,
   "id": "ef600951-ff0b-44c0-a05c-306528e00fcb",
   "metadata": {},
   "outputs": [
    {
     "data": {
      "image/png": "[encoded data removed]",
      "text/plain": [
       "<Figure size 1200x800 with 1 Axes>"
      ]
     },
     "metadata": {},
     "output_type": "display_data"
    }
   ],
   "source": [
    "import matplotlib.pyplot as plt\r\n",
    "import squarify\r\n",
    "\r\n",
    "# Data\r\n",
    "country_id = [\"Azerbaijan\", \"Liberia\", \"Zambia\", \"Montenegro\", \"Paraguay\", \"Guatemala\", \"Cape Verde\", \"Costa Rica\", \"El Salvador\", \"Cook Islands\"]\r\n",
    "diff_avg_eps = [45.44, 38.08, 33.23, 27.15, 22.75, 20.93, 20.04, 18.71, 17.88, 17.53]\r\n",
    "\r\n",
    "# Create a color palette\r\n",
    "cmap = plt.get_cmap('viridis')\r\n",
    "norm = plt.Normalize(min(diff_avg_eps), max(diff_avg_eps))\r\n",
    "colors = [cmap(norm(value)) for value in diff_avg_eps]\r\n",
    "\r\n",
    "# Create the figure\r\n",
    "fig, ax = plt.subplots(figsize=(12, 8))\r\n",
    "\r\n",
    "# Plot tree map\r\n",
    "squarify.plot(sizes=diff_avg_eps, label=country_id, color=colors, alpha=0.8, ax=ax)\r\n",
    "\r\n",
    "# Set the title\r\n",
    "plt.title('Fig. 4: Difference in Average EPS for Top 10 Countries in 2019 and 2023', fontsize=14)\r\n",
    "\r\n",
    "# Remove axis\r\n",
    "plt.axis('off')\r\n",
    "\r\n",
    "# Display the plot\r\n",
    "plt.show()\r\n"
   ]
  },
  {
   "cell_type": "markdown",
   "id": "2c026e7c-0d42-43e7-8c5b-a2a27b75044c",
   "metadata": {},
   "source": [
    "## Hypotheses and Recommendations\r\n",
    "Based on the provided data schema and the identified drop in Eran per Seat (EPS) between 2019 and 2023, here are three hypotheses and recommendations for increasing sales and revenue, ranked by business value:\r\n"
   ]
  },
  {
   "cell_type": "markdown",
   "id": "5be5f553-de37-4cf0-bbe6-e9b46af31ad6",
   "metadata": {},
   "source": [
    "### 1. Optimise Pricing Strategy (High Business Value)\n",
    "**Hypothesis**: Adjusting the pricing strategy to reflect market demand and competitive positioning can enhance revenue per seat.\n",
    "\n",
    "**Recommendations**:\n",
    "- **Dynamic Pricing**: Implement dynamic pricing models that adjust ticket prices based on factors such as demand, time to departure, and competition. For instance, increase prices during peak travel times and offer discounts during off-peak times.\n",
    "- **Segmentation**: Offer different pricing tiers based on customer segments, such as economy, business, and premium seats, to cater to varying customer preferences and willingness to pay.\n",
    "- **Promotions and Discounts**: Run targeted promotions and discounts for specific routes or times that typically experience lower occupancy to increase seat utility land overall business performance.\n",
    "The analysis below provides some insights from 2023 (Q1, Q2, Q3) that might be considered while implementing the new models of pricing."
   ]
  },
  {
   "cell_type": "markdown",
   "id": "84ceed3c-94e6-4208-aff8-520dc0a5a13f",
   "metadata": {},
   "source": [
    "The analysis below provides some insights from 2023 (Q1, Q2, Q3) that might be considered while implementing the new models of pricing."
   ]
  },
  {
   "cell_type": "markdown",
   "id": "7b90dfe8-4d27-439a-961d-9ba9a4e17699",
   "metadata": {},
   "source": [
    "**! Important**:\n",
    "\n",
    "- **Statistical significance** needs to be tested to ensure these differences have not occurred by chance.\n",
    "- The statistics include the date and time that have been implemented based on paidon_date. That may imply the purchase date and time, not the real travel time."
   ]
  },
  {
   "cell_type": "markdown",
   "id": "f65f9636-2bb3-4ecb-8fd4-dc7e395464ca",
   "metadata": {},
   "source": [
    "#### KIPs for dynamic pricing strategy"
   ]
  },
  {
   "cell_type": "markdown",
   "id": "e5a34c93-a039-41ed-8faf-74cb01a73543",
   "metadata": {},
   "source": [
    "Identifying the Top 10 percentages of Seat demand per month 2023."
   ]
  },
  {
   "cell_type": "markdown",
   "id": "fbeba0a6-17ad-455d-ab1f-74b3ccda60eb",
   "metadata": {},
   "source": [
    "```sql\n",
    "SELECT \n",
    "    month,\n",
    "    total_seats,\n",
    "    ROUND((total_seats / total_seats_sum) * 100, 2) AS percentage_of_total_seats\n",
    "FROM (\n",
    "    SELECT \n",
    "        DATE_FORMAT(paidon_date, '%Y-%m') AS month,\n",
    "        SUM(seats) AS total_seats\n",
    "    FROM \n",
    "        analytic_test_booking\n",
    "    WHERE \n",
    "        YEAR(paidon_date) = 2023\n",
    "        AND MONTH(paidon_date) BETWEEN 1 AND 9\n",
    "    GROUP BY \n",
    "        DATE_FORMAT(paidon_date, '%Y-%m')\n",
    ") AS monthly_seats\n",
    "JOIN (\n",
    "    SELECT \n",
    "        SUM(seats) AS total_seats_sum\n",
    "    FROM \n",
    "        analytic_test_booking\n",
    "    WHERE \n",
    "        YEAR(paidon_date) = 2023\n",
    "        AND MONTH(paidon_date) BETWEEN 1 AND 9\n",
    ") AS total_seats_info\n",
    "ON 1=1\n",
    "ORDER BY \n",
    "    total_seats DESC;\n",
    "    \n",
    "    ```\n",
    "    "
   ]
  },
  {
   "cell_type": "markdown",
   "id": "fd5a9d46-093a-410d-8487-be07ea31cadc",
   "metadata": {},
   "source": [
    "Table 7: Top 10 Seat demand(%) per month 2023.\r\n"
   ]
  },
  {
   "cell_type": "markdown",
   "id": "17cc6989-3e72-46d1-81e7-270142ed2b36",
   "metadata": {},
   "source": [
    "| month    | total_seats | percentage_of_total_seats |\r\n",
    "| -------- | ----------- | ------------------------ |\r\n",
    "| 2023-03  | 393919      | 12.55                    |\r\n",
    "| 2023-08  | 367654      | 11.71                    |\r\n",
    "| 2023-04  | 363668      | 11.58                    |\r\n",
    "| 2023-07  | 360831      | 11.49                    |\r\n",
    "| 2023-02  | 359459      | 11.45                    |\r\n",
    "| 2023-01  | 355358      | 11.32                    |\r\n",
    "| 2023-09  | 330456      | 10.53                    |\r\n",
    "| 2023-05  | 321813      | 10.25                    |\r\n",
    "| 2023-06  | 285993      | 9.11                     |\r\n"
   ]
  },
  {
   "cell_type": "markdown",
   "id": "a8e4d000-cfb6-4207-8e79-d701da2fb5ea",
   "metadata": {},
   "source": [
    "**March** and **August** have relatively higher percentages of seat demand compared with other months."
   ]
  },
  {
   "cell_type": "markdown",
   "id": "ceb3aad9-9a63-4b88-b51c-c8e283097d00",
   "metadata": {},
   "source": [
    "Seat demand per day of the week (Q1, Q2, Q3) 2023."
   ]
  },
  {
   "cell_type": "markdown",
   "id": "be6fb771-c2a5-44ef-85dc-8d7d2a675474",
   "metadata": {},
   "source": [
    "``` sql\n",
    "SELECT \n",
    "    DAYNAME(paidon_date) AS day_of_week,\n",
    "    SUM(seats) AS total_seats,\n",
    "    ROUND(SUM(seats) * 100.0 / (SELECT SUM(seats) FROM analytic_test_booking WHERE YEAR(paidon_date) = 2023 AND MONTH(paidon_date) BETWEEN 1 AND 9), 2) AS percentage_of_total_seats\n",
    "FROM \n",
    "    analytic_test_booking\n",
    "WHERE \n",
    "    YEAR(paidon_date) = 2023\n",
    "    AND MONTH(paidon_date) BETWEEN 1 AND 9\n",
    "GROUP BY \n",
    "    DAYNAME(paidon_date)\n",
    "ORDER BY \n",
    "    total_seats DESC;\n",
    "```"
   ]
  },
  {
   "cell_type": "markdown",
   "id": "fb5054c9-9d51-47bd-9798-2dd5227ecebe",
   "metadata": {},
   "source": [
    "Table 8: Seat demand per day of the week (Q1, Q2, Q3) 2023."
   ]
  },
  {
   "cell_type": "markdown",
   "id": "016385a1-2944-4fc6-bfa3-3d806d931a5d",
   "metadata": {},
   "source": [
    "| day_of_week | total_seats | percentage_of_total_seats |\r\n",
    "| ----------- | ----------- | ------------------------ |\r\n",
    "| Monday      | 465775      | 14.84                    |\r\n",
    "| Sunday      | 459947      | 14.65                    |\r\n",
    "| Wednesday   | 452813      | 14.42                    |\r\n",
    "| Thursday    | 451270      | 14.38                    |\r\n",
    "| Tuesday     | 450957      | 14.37                    |\r\n",
    "| Friday      | 433300      | 13.80                    |\r\n",
    "| Saturday    | 425089      | 13.54                    |\r\n"
   ]
  },
  {
   "cell_type": "markdown",
   "id": "ba37d28e-5f57-4c9a-86c9-45f7c930c5bf",
   "metadata": {},
   "source": [
    "**Monday** and **Sunday** have relatively higher percentages of seat demand compared with other days of the week (2023)."
   ]
  },
  {
   "cell_type": "markdown",
   "id": "f5cc7262-5aa3-41e2-912b-1b91741e2f05",
   "metadata": {},
   "source": [
    "Calculating seat demand per hour of the day (Q1, Q2, Q3) 2023"
   ]
  },
  {
   "cell_type": "markdown",
   "id": "97a1081f-2b43-4f39-bb98-c35d6e90405c",
   "metadata": {},
   "source": [
    "```sql\n",
    "SELECT \n",
    "    DATE_FORMAT(paidon, '%H:00') AS hour_of_day,\n",
    "    SUM(seats) AS total_seats\n",
    "FROM \n",
    "    analytic_test_booking\n",
    "WHERE \n",
    "    YEAR(paidon_date) = 2023\n",
    "GROUP BY \n",
    "    DATE_FORMAT(paidon, '%H:00')\n",
    "ORDER BY \n",
    "    total_seats DESC\n",
    "LIMIT 10;\n",
    "\n",
    "```"
   ]
  },
  {
   "cell_type": "markdown",
   "id": "7c2d59b4-9171-45b6-8129-145fa3e7c5c7",
   "metadata": {},
   "source": [
    "Table 9: Seat demand per hour of the day (Q1, Q2, Q3) 2023."
   ]
  },
  {
   "cell_type": "markdown",
   "id": "7d799916-a907-49e4-8f7a-963f8a4a9ef8",
   "metadata": {},
   "source": [
    "| hour_of_day | total_seats | percentage_of_total_seats |\r\n",
    "| ----------- | ----------- | ------------------------ |\r\n",
    "| 21:00       | 194896      | 6.21                     |\r\n",
    "| 20:00       | 193091      | 6.15                     |\r\n",
    "| 18:00       | 192144      | 6.12                     |\r\n",
    "| 19:00       | 191879      | 6.11                     |\r\n",
    "| 17:00       | 189104      | 6.02                     |\r\n",
    "| 16:00       | 176834      | 5.63                     |\r\n",
    "| 22:00       | 176319      | 5.62                     |\r\n",
    "| 15:00       | 164419      | 5.24                     |\r\n",
    "| 12:00       | 163178      | 5.20                     |\r\n",
    "| 11:00       | 163087      | 5.20                     |\r\n"
   ]
  },
  {
   "cell_type": "markdown",
   "id": "3e0827a8-597a-449e-82f1-72097838ccc1",
   "metadata": {},
   "source": [
    "The hours 21:00 and 20:00 are the most relevant time for booking."
   ]
  },
  {
   "cell_type": "markdown",
   "id": "c10a60b0-9aab-4fd3-9c1c-783ae3f00a52",
   "metadata": {},
   "source": [
    "#### KIPs for dynamic segmentation strategy"
   ]
  },
  {
   "cell_type": "markdown",
   "id": "86a916af-9c44-4a32-9569-b41c9e4ee1ce",
   "metadata": {},
   "source": [
    "The SQL query below, can be used to identify the Top 10 of many variables in relation with the Total revenue generated in (q1, Q2, Q3) 2023"
   ]
  },
  {
   "cell_type": "markdown",
   "id": "49859580-4111-4a1e-a1b2-5316b226ac2c",
   "metadata": {},
   "source": [
    "```sql\n",
    "SELECT \n",
    "     -- country_id,\n",
    "    -- seller_id,\n",
    "     class_id,\n",
    "     -- cust_id,\n",
    "     -- user_agent,\n",
    "     -- createdby,\n",
    "     -- landing,\n",
    "    round(SUM(total_usd), 2) AS total_usd,\n",
    "    round ((SUM(total_usd) / (SELECT SUM(total_usd) FROM analytic_test_booking where YEAR(paidon_date) = 2023) * 100), 2) AS percentage_of_total\n",
    "FROM \n",
    "    analytic_test_booking\n",
    "where Year(paidon_date) = 2023\n",
    "GROUP BY \n",
    "    -- country_id\n",
    "    -- seller_id\n",
    "      class_id\n",
    "     -- cust_id\n",
    "     -- user_agent,\n",
    "     -- createdby\n",
    "     -- landing\n",
    "ORDER BY \n",
    "    total_usd DESC\n",
    "LIMIT 10;\n",
    "\n",
    "```"
   ]
  },
  {
   "cell_type": "markdown",
   "id": "9cc8e678-0aa0-4ba9-a15a-ec8b447ef3eb",
   "metadata": {},
   "source": [
    "Table 10: Top 10 classes in terms of Total revenue generated in (q1, Q2, Q3) 2023. "
   ]
  },
  {
   "cell_type": "markdown",
   "id": "ddc666ba-c5cf-4469-ba02-5b4de2b0e679",
   "metadata": {},
   "source": [
    "| class_id | total_usd    | percentage_of_total |\r\n",
    "| -------- | ------------ | ------------------- |\r\n",
    "| 43       | 5538807.74   | 13.56               |\r\n",
    "| 21       | 5117352.51   | 12.53               |\r\n",
    "| 12       | 2359512.50   | 5.78                |\r\n",
    "| 6        | 1927556.58   | 4.72                |\r\n",
    "| 11       | 1423242.72   | 3.48                |\r\n",
    "| 79       | 1259985.51   | 3.08                |\r\n",
    "| 44       | 1161400.66   | 2.84                |\r\n",
    "| 5        | 874532.66    | 2.14                |\r\n",
    "| 1776     | 684805.19    | 1.68                |\r\n",
    "| 3473     | 630651.15    | 1.54                |\r\n"
   ]
  },
  {
   "cell_type": "markdown",
   "id": "67009d35-e10d-4068-a390-78b31d3f26e7",
   "metadata": {},
   "source": [
    "Table 11: Top 10 countries in terms of Total revenue generated in (q1, Q2, Q3) 2023. \r\n"
   ]
  },
  {
   "cell_type": "markdown",
   "id": "e334edd4-6720-49a5-a4cd-de34a67a957e",
   "metadata": {},
   "source": [
    "| country_id | total_usd    | percentage_of_total_usd |\r\n",
    "| ---------- | ------------ | ------------------- |\r\n",
    "| TH         | 12816936.12  | 31.37               |\r\n",
    "| VN         | 3371532.33   | 8.25                |\r\n",
    "| ID         | 2355387.43   | 5.77                |\r\n",
    "| SG         | 2042309.39   | 5.00                |\r\n",
    "| FR         | 1744735.92   | 4.27                |\r\n",
    "| PH         | 1695213.63   | 4.15                |\r\n",
    "| DE         | 1680660.19   | 4.11                |\r\n",
    "| GB         | 1613003.69   | 3.95                |\r\n",
    "| NL         | 1436204.64   | 3.52                |\r\n",
    "| US         | 1327477.10   | 3.25                |\r\n"
   ]
  },
  {
   "cell_type": "markdown",
   "id": "ff6f0776-d990-48b5-a66d-f6a777d54e03",
   "metadata": {},
   "source": [
    "### 2. Enhance Marketing and Customer Acquisition Strategies (Medium to High Business Value)\n",
    "**Hypothesis**: Improved marketing and targeted customer acquisition strategies can increase overall sales volume and revenue.\n",
    "\n",
    "**Recommendations**:\n",
    "- **Targeted Advertising**: Utilise data analytics to identify high-value customer segments and create targeted advertising campaigns through digital marketing channels, including social media, search engines, and email marketing."
   ]
  },
  {
   "cell_type": "markdown",
   "id": "2a03ce5f-5b7d-49f0-a75a-660edf136ca7",
   "metadata": {},
   "source": [
    "#### KIPs for Enhancing Marketing and Customer Acquisition"
   ]
  },
  {
   "cell_type": "markdown",
   "id": "398f9ff5-cc78-41f5-a376-0f9dea4b84f5",
   "metadata": {},
   "source": [
    "Table 11 : Top 10 countries in terms of Total revenue generated in (q1, Q2, Q3) 2023, can be used for this purpose."
   ]
  },
  {
   "cell_type": "markdown",
   "id": "e2c0d723-f7d6-49c1-bba0-a1f9f6e7eed7",
   "metadata": {},
   "source": [
    "- **Loyalty Programs**: Develop and promote loyalty programs to encourage repeat bookings. Offer points or discounts for frequent travellers, which can increase customer retention and lifetime value.\r\n",
    "Validating KPIs\r\n"
   ]
  },
  {
   "cell_type": "markdown",
   "id": "38c3c6e5-5c92-4b37-b780-54cf6c861dc9",
   "metadata": {},
   "source": [
    "Table 13: Top 10 countries in terms of Total revenue generated in (q1, Q2, Q3) 2023."
   ]
  },
  {
   "cell_type": "markdown",
   "id": "bac93f03-19fc-4e99-8bb9-d5c49494dfc6",
   "metadata": {},
   "source": [
    "| seller_id | total_usd    | percentage_of_total_usd |\r\n",
    "| --------- | ------------ | ------------------- |\r\n",
    "| 2547      | 3573473.40   | 8.75                |\r\n",
    "| 16        | 2450293.31   | 6.00                |\r\n",
    "| 191       | 1738954.53   | 4.26                |\r\n",
    "| 2810      | 1458379.19   | 3.57                |\r\n",
    "| 2356      | 1326626.45   | 3.25                |\r\n",
    "| 269       | 1224183.98   | 3.00                |\r\n",
    "| 181       | 1164656.65   | 2.85                |\r\n",
    "| 2382      | 1117873.07   | 2.74                |\r\n",
    "| 527       | 1014406.70   | 2.48                |\r\n",
    "| 2548      | 961400.48    | 2.35                |\r\n"
   ]
  },
  {
   "cell_type": "markdown",
   "id": "e19a760a-1342-4db8-992e-a5b3abee10fe",
   "metadata": {},
   "source": [
    "- **Partnerships**: Partner with travel agencies, corporate clients, and other relevant businesses to offer bundled deals and increase sales through their networks."
   ]
  },
  {
   "cell_type": "markdown",
   "id": "25546a9e-c613-4f38-b8df-bed04e6419e3",
   "metadata": {},
   "source": [
    "Table 14: Top agents/partners in terms of Total revenue generated in (q1, Q2, Q3) 2023."
   ]
  },
  {
   "cell_type": "markdown",
   "id": "de7c96a3-bb0d-4676-9dc2-c13b2912157b",
   "metadata": {},
   "source": [
    "| createdby | total_usd    | percentage_of_total |\r\n",
    "| --------- | ------------ | ------------------- |\r\n",
    "| 1         | 13102713.04  | 32.07               |\r\n",
    "| 4         | 12961968.52  | 31.73               |\r\n",
    "| 30        | 3535039.23   | 8.65                |\r\n",
    "| 3481      | 1363260.13   | 3.34                |\r\n",
    "| 6795      | 1125172.30   | 2.75                |\r\n",
    "| 4087482   | 867932.77    | 2.12                |\r\n",
    "| 64932     | 620355.82    | 1.52                |\r\n",
    "| 56330     | 567092.21    | 1.39                |\r\n",
    "| 20092     | 453332.18    | 1.11                |\r\n",
    "| 26        | 452194.42    | 1.11                |\r\n"
   ]
  },
  {
   "cell_type": "markdown",
   "id": "c46e5b56-9e6c-46a5-84aa-192953030324",
   "metadata": {},
   "source": [
    "### 3. **Improve Customer Experience and Service Offerings (Medium Business Value)**\n",
    "   **Hypothesis:** Enhancing the overall customer experience and expanding service offerings can lead to increased customer satisfaction, repeat business, and higher revenue per seat.\n",
    "   \n",
    "   **Recommendations:**\n",
    "   - **Customer Feedback:** Regularly gather and analyze customer feedback to identify areas for improvement. Implement changes based on this feedback to enhance the overall travel experience.\n",
    "   - **Additional Services:** Introduce value-added services such as in-transit entertainment, Wi-Fi, meal options, and comfortable seating arrangements. Offer these as premium services to increase revenue per seat.\n",
    "   - **Ease of Booking:** Simplify the booking process on the website and mobile apps. Ensure a user-friendly interface and offer multiple payment options to cater to a broader audience."
   ]
  },
  {
   "cell_type": "markdown",
   "id": "36940904-cc79-437f-8b9c-b783d0cdda91",
   "metadata": {},
   "source": [
    "#### KIPs for Improve Customer Experience and Service Offerings\r\n"
   ]
  },
  {
   "cell_type": "markdown",
   "id": "69087d54-4f76-47d5-93fe-d4df81caed5a",
   "metadata": {},
   "source": [
    "Table 15: Top user agents have been used based on Total revenue generated in (q1, Q2, Q3) 2023."
   ]
  },
  {
   "cell_type": "markdown",
   "id": "8ce7bc1c-d39e-4341-9eba-4f483cc1dd48",
   "metadata": {},
   "source": [
    "| user_agent                                                                                                                           | total_usd    | percentage_of_total |\r\n",
    "| ------------------------------------------------------------------------------------------------------------------------------------- | ------------ | ------------------- |\r\n",
    "| Mozilla/5.0 (iPhone; CPU iPhone OS 16_3_1 like Mac OS X) AppleWebKit/605.1.15 (KHTML, like Gecko) Version/16.3 Mobile/15E148 Safari/604.1 | 1704113.63   | 4.17                |\r\n",
    "| Mozilla/5.0 (iPhone; CPU iPhone OS 16_1_1 like Mac OS X) AppleWebKit/605.1.15 (KHTML, like Gecko) Version/16.1 Mobile/15E148 Safari/604.1 | 1634761.94   | 4.00                |\r\n",
    "| Mozilla/5.0 (iPhone; CPU iPhone OS 16_2 like Mac OS X) AppleWebKit/605.1.15 (KHTML, like Gecko) Version/16.2 Mobile/15E148 Safari/604.1 | 1409454.39   | 3.45                |\r\n",
    "| Mozilla/5.0 (Windows NT 10.0; Win64; x64) AppleWebKit/537.36 (KHTML, like Gecko) Chrome/114.0.0.0 Safari/537.36 | 1073609.31   | 2.63                |\r\n",
    "| api/booking                                                                                                                            | 986779.28    | 2.42                |\r\n",
    "| Mozilla/5.0 (iPhone; CPU iPhone OS 16_6 like Mac OS X) AppleWebKit/605.1.15 (KHTML, like Gecko) Version/16.6 Mobile/15E148 Safari/604.1 | 866719.39    | 2.12                |\r\n",
    "| Mozilla/5.0 (Linux; Android 10; K) AppleWebKit/537.36 (KHTML, like Gecko) Chrome/114.0.0.0 Mobile Safari/537.36 | 811358.62    | 1.99                |\r\n",
    "| Mozilla/5.0 (Windows NT 10.0; Win64; x64) AppleWebKit/537.36 (KHTML, like Gecko) Chrome/109.0.0.0 Safari/537.36 | 803600.83    | 1.97                |\r\n",
    "| Mozilla/5.0 (iPhone; CPU iPhone OS 15_6_1 like Mac OS X) AppleWebKit/605.1.15 (KHTML, like Gecko) Version/15.6.1 Mobile/15E148 Safari/604.1 | 777711.98    | 1.90                |\r\n",
    "| Mozilla/5.0 (Windows NT 10.0; Win64; x64) AppleWebKit/537.36 (KHTML, like Gecko) Chrome/111.0.0.0 Safari/537.36 | 703656.87    | 1.72                |\r\n"
   ]
  },
  {
   "cell_type": "markdown",
   "id": "48145273-3e72-43ec-8fd3-a07c0448a0aa",
   "metadata": {},
   "source": [
    "Table 16: Top landing page performance in terms of Total revenue generated in (q1, Q2, Q3) 2023.\r\n"
   ]
  },
  {
   "cell_type": "markdown",
   "id": "aa731db9-3321-4eb1-a1f5-3c3a565bd179",
   "metadata": {},
   "source": [
    "| landing                                   | total_usd    | percentage_of_total |\r\n",
    "| ----------------------------------------- | ------------ | ------------------- |\r\n",
    "| https://12go.asia/                       | 2678038.17   | 6.56                |\r\n",
    "| https://www.12go.asia/en                  | 2600910.67   | 6.37                |\r\n",
    "| https://12go.asia/en                      | 1850652.39   | 4.53                |\r\n",
    "| https://12go.co/                         | 1206299.24   | 2.95                |\r\n",
    "| https://www.12go.co/en                    | 667756.03    | 1.63                |\r\n",
    "| https://12go.asia/fr                      | 333007.60    | 0.82                |\r\n",
    "| https://secure.12go.asia/en/login         | 330881.29    | 0.81                |\r\n",
    "| https://12go.asia/de                      | 327467.61    | 0.80                |\r\n",
    "| https://www.12go.asia/de                  | 320521.65    | 0.78                |\r\n",
    "| https://www.12go.asia/fr                  | 280009.97    | 0.69                |\r\n"
   ]
  },
  {
   "cell_type": "markdown",
   "id": "17faa9c8-5ebc-4e4a-84fe-4e15e356260f",
   "metadata": {},
   "source": [
    "### Data-Driven Approach:\n",
    "To validate these hypotheses and implement the recommendations effectively, consider the following steps:\n",
    "\n",
    "1. **Data Analysis:** Conduct detailed data analysis to understand customer behavior, booking patterns, and price sensitivity. Use historical data from 2019 and 2023 to identify trends and insights.\n",
    "2. **A/B Testing:** Implement A/B testing for dynamic pricing models, marketing campaigns, and service enhancements to measure their impact on sales and revenue.\n",
    "3. **Customer Surveys:** Perform surveys and gather qualitative data to supplement quantitative analysis. This can provide deeper insights into customer preferences and satisfaction levels.\n",
    "\n",
    "By implementing these hypotheses and recommendations, the company can potentially increase its sales and revenue, thereby improving the Eran per Seat (eps) and overall business performance."
   ]
  },
  {
   "cell_type": "markdown",
   "id": "8b556904-a555-431d-9bf5-6a6f7cc15e9e",
   "metadata": {},
   "source": [
    "## Limitations\n",
    "\n",
    "- Due to time constraints, this analysis is a preliminary examination of the data. Further validation, statistical analysis, hypothesis testing, and expansion of the analysis by including more variables in the current dataset or others when possible are needed. \n",
    "- Gaining a deeper understanding of the business case and scope will provide more depth to the analysis, which wasn't possible within the given time frame."
   ]
  }
 ],
 "metadata": {
  "kernelspec": {
   "display_name": "Python 3 (ipykernel)",
   "language": "python",
   "name": "python3"
  },
  "language_info": {
   "codemirror_mode": {
    "name": "ipython",
    "version": 3
   },
   "file_extension": ".py",
   "mimetype": "text/x-python",
   "name": "python",
   "nbconvert_exporter": "python",
   "pygments_lexer": "ipython3",
   "version": "3.11.7"
  }
 },
 "nbformat": 4,
 "nbformat_minor": 5
}
